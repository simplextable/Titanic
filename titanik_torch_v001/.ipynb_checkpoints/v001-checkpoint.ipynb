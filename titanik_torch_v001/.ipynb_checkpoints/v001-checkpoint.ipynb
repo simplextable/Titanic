{
 "cells": [
  {
   "cell_type": "code",
   "execution_count": 7,
   "metadata": {
    "colab": {},
    "colab_type": "code",
    "executionInfo": {
     "elapsed": 853,
     "status": "ok",
     "timestamp": 1593330755145,
     "user": {
      "displayName": "Gitti Memurluk",
      "photoUrl": "https://lh3.googleusercontent.com/a-/AOh14Gi0SZS_e7M6D1DTXMhg58poQDybVlLVAaYZoOoq=s64",
      "userId": "15171960339512340441"
     },
     "user_tz": -180
    },
    "id": "T47zTQ631V_Q"
   },
   "outputs": [],
   "source": [
    "import pandas as pd\n",
    "\n",
    "df_train = pd.read_csv('drive/My Drive/Colab Notebooks/Titanic-Pytourch/train.csv')\n",
    "df_test = pd.read_csv('drive/My Drive/Colab Notebooks/Titanic-Pytourch/test.csv')\n",
    "df_sub = pd.read_csv('drive/My Drive/Colab Notebooks/Titanic-Pytourch/gender_submission.csv')"
   ]
  },
  {
   "cell_type": "code",
   "execution_count": 4,
   "metadata": {
    "colab": {
     "base_uri": "https://localhost:8080/",
     "height": 70
    },
    "colab_type": "code",
    "executionInfo": {
     "elapsed": 1245,
     "status": "ok",
     "timestamp": 1593330694863,
     "user": {
      "displayName": "Gitti Memurluk",
      "photoUrl": "https://lh3.googleusercontent.com/a-/AOh14Gi0SZS_e7M6D1DTXMhg58poQDybVlLVAaYZoOoq=s64",
      "userId": "15171960339512340441"
     },
     "user_tz": -180
    },
    "id": "NcUITXDG3jne",
    "outputId": "51741dbd-ee19-4d56-ef6d-71973f715634"
   },
   "outputs": [
    {
     "name": "stderr",
     "output_type": "stream",
     "text": [
      "/usr/local/lib/python3.6/dist-packages/statsmodels/tools/_testing.py:19: FutureWarning: pandas.util.testing is deprecated. Use the functions in the public API at pandas.testing instead.\n",
      "  import pandas.util.testing as tm\n"
     ]
    }
   ],
   "source": [
    "import numpy as np\n",
    "import pandas as pd\n",
    "import seaborn as sns\n",
    "import matplotlib.pyplot as plt\n",
    "from collections import Counter\n",
    "from sklearn.utils import shuffle\n",
    "from sklearn.preprocessing import StandardScaler\n",
    "from sklearn.linear_model import LogisticRegression\n",
    "from sklearn.model_selection import train_test_split"
   ]
  },
  {
   "cell_type": "code",
   "execution_count": 8,
   "metadata": {
    "colab": {},
    "colab_type": "code",
    "executionInfo": {
     "elapsed": 901,
     "status": "ok",
     "timestamp": 1593330759218,
     "user": {
      "displayName": "Gitti Memurluk",
      "photoUrl": "https://lh3.googleusercontent.com/a-/AOh14Gi0SZS_e7M6D1DTXMhg58poQDybVlLVAaYZoOoq=s64",
      "userId": "15171960339512340441"
     },
     "user_tz": -180
    },
    "id": "fgVltnit3jqR"
   },
   "outputs": [],
   "source": [
    "df_train.drop(['Name','Ticket','Cabin'],axis=1,inplace=True)\n",
    "df_test.drop( ['Name','Ticket','Cabin'],axis=1,inplace=True)\n",
    "\n",
    "sex = pd.get_dummies(df_train['Sex'],drop_first=True)\n",
    "embark = pd.get_dummies(df_train['Embarked'],drop_first=True)\n",
    "df_train = pd.concat([df_train,sex,embark],axis=1)\n",
    "\n",
    "df_train.drop(['Sex','Embarked'],axis=1,inplace=True)\n",
    "\n",
    "sex = pd.get_dummies(df_test['Sex'],drop_first=True)\n",
    "embark = pd.get_dummies(df_test['Embarked'],drop_first=True)\n",
    "df_test = pd.concat([df_test,sex,embark],axis=1)\n",
    "\n",
    "df_test.drop(['Sex','Embarked'],axis=1,inplace=True)\n",
    "\n",
    "df_train.fillna(df_train.mean(),inplace=True)\n",
    "df_test.fillna(df_test.mean(),inplace=True)\n",
    "\n",
    "Scaler1 = StandardScaler()\n",
    "Scaler2 = StandardScaler()\n",
    "\n",
    "train_columns = df_train.columns\n",
    "test_columns  = df_test.columns\n",
    "\n",
    "df_train = pd.DataFrame(Scaler1.fit_transform(df_train))\n",
    "df_test  = pd.DataFrame(Scaler2.fit_transform(df_test))\n",
    "\n",
    "df_train.columns = train_columns\n",
    "df_test.columns  = test_columns\n",
    "\n",
    "features = df_train.iloc[:,2:].columns.tolist()\n",
    "target   = df_train.loc[:, 'Survived'].name\n",
    "\n",
    "X_train = df_train.iloc[:,2:].values\n",
    "y_train = df_train.loc[:, 'Survived'].values"
   ]
  },
  {
   "cell_type": "code",
   "execution_count": 12,
   "metadata": {
    "colab": {
     "base_uri": "https://localhost:8080/",
     "height": 34
    },
    "colab_type": "code",
    "executionInfo": {
     "elapsed": 831,
     "status": "ok",
     "timestamp": 1593330869666,
     "user": {
      "displayName": "Gitti Memurluk",
      "photoUrl": "https://lh3.googleusercontent.com/a-/AOh14Gi0SZS_e7M6D1DTXMhg58poQDybVlLVAaYZoOoq=s64",
      "userId": "15171960339512340441"
     },
     "user_tz": -180
    },
    "id": "Yi4Vm8sC61I1",
    "outputId": "7c6f65ab-e766-4b3b-dfa2-00078b3708e4"
   },
   "outputs": [
    {
     "data": {
      "text/plain": [
       "(891, 8)"
      ]
     },
     "execution_count": 12,
     "metadata": {
      "tags": []
     },
     "output_type": "execute_result"
    }
   ],
   "source": [
    "np.shape(X_train)"
   ]
  },
  {
   "cell_type": "markdown",
   "metadata": {
    "colab_type": "text",
    "id": "1hrp75qU6g3t"
   },
   "source": [
    "***PYTORCH***"
   ]
  },
  {
   "cell_type": "code",
   "execution_count": 9,
   "metadata": {
    "colab": {},
    "colab_type": "code",
    "executionInfo": {
     "elapsed": 3061,
     "status": "ok",
     "timestamp": 1593330828100,
     "user": {
      "displayName": "Gitti Memurluk",
      "photoUrl": "https://lh3.googleusercontent.com/a-/AOh14Gi0SZS_e7M6D1DTXMhg58poQDybVlLVAaYZoOoq=s64",
      "userId": "15171960339512340441"
     },
     "user_tz": -180
    },
    "id": "Z6NV6ZGr3jvz"
   },
   "outputs": [],
   "source": [
    "import torch\n",
    "import torch.nn as nn\n",
    "from torch.nn import functional as F\n",
    "from torch.autograd import Variable"
   ]
  },
  {
   "cell_type": "code",
   "execution_count": 10,
   "metadata": {
    "colab": {
     "base_uri": "https://localhost:8080/",
     "height": 118
    },
    "colab_type": "code",
    "executionInfo": {
     "elapsed": 916,
     "status": "ok",
     "timestamp": 1593330840835,
     "user": {
      "displayName": "Gitti Memurluk",
      "photoUrl": "https://lh3.googleusercontent.com/a-/AOh14Gi0SZS_e7M6D1DTXMhg58poQDybVlLVAaYZoOoq=s64",
      "userId": "15171960339512340441"
     },
     "user_tz": -180
    },
    "id": "zwMjQQs63jzO",
    "outputId": "9d20576b-d059-46a4-a62c-a140cd23b699"
   },
   "outputs": [
    {
     "name": "stdout",
     "output_type": "stream",
     "text": [
      "Net(\n",
      "  (fc1): Linear(in_features=8, out_features=512, bias=True)\n",
      "  (fc2): Linear(in_features=512, out_features=512, bias=True)\n",
      "  (fc3): Linear(in_features=512, out_features=2, bias=True)\n",
      "  (dropout): Dropout(p=0.2, inplace=False)\n",
      ")\n"
     ]
    }
   ],
   "source": [
    "class Net(nn.Module):\n",
    "    def __init__(self):\n",
    "        super(Net, self).__init__()\n",
    "        self.fc1 = nn.Linear(8, 512)\n",
    "        self.fc2 = nn.Linear(512, 512)\n",
    "        self.fc3 = nn.Linear(512, 2)\n",
    "        self.dropout = nn.Dropout(0.2)\n",
    "        \n",
    "    def forward(self, x):\n",
    "        x = F.relu(self.fc1(x))\n",
    "        x = self.dropout(x)\n",
    "        x = F.relu(self.fc2(x))\n",
    "        x = self.dropout(x)\n",
    "        x = self.fc3(x)\n",
    "        return x\n",
    "model = Net()\n",
    "print(model)"
   ]
  },
  {
   "cell_type": "code",
   "execution_count": 13,
   "metadata": {
    "colab": {},
    "colab_type": "code",
    "executionInfo": {
     "elapsed": 939,
     "status": "ok",
     "timestamp": 1593331152098,
     "user": {
      "displayName": "Gitti Memurluk",
      "photoUrl": "https://lh3.googleusercontent.com/a-/AOh14Gi0SZS_e7M6D1DTXMhg58poQDybVlLVAaYZoOoq=s64",
      "userId": "15171960339512340441"
     },
     "user_tz": -180
    },
    "id": "VNYfLHvX3jth"
   },
   "outputs": [],
   "source": [
    "criterion = nn.CrossEntropyLoss()"
   ]
  },
  {
   "cell_type": "code",
   "execution_count": 14,
   "metadata": {
    "colab": {},
    "colab_type": "code",
    "executionInfo": {
     "elapsed": 891,
     "status": "ok",
     "timestamp": 1593331154683,
     "user": {
      "displayName": "Gitti Memurluk",
      "photoUrl": "https://lh3.googleusercontent.com/a-/AOh14Gi0SZS_e7M6D1DTXMhg58poQDybVlLVAaYZoOoq=s64",
      "userId": "15171960339512340441"
     },
     "user_tz": -180
    },
    "id": "vkFk5SsH7viW"
   },
   "outputs": [],
   "source": [
    "optimizer = torch.optim.SGD(model.parameters(), lr=0.01)"
   ]
  },
  {
   "cell_type": "code",
   "execution_count": 17,
   "metadata": {
    "colab": {
     "base_uri": "https://localhost:8080/",
     "height": 1000
    },
    "colab_type": "code",
    "executionInfo": {
     "elapsed": 25523,
     "status": "ok",
     "timestamp": 1593331269908,
     "user": {
      "displayName": "Gitti Memurluk",
      "photoUrl": "https://lh3.googleusercontent.com/a-/AOh14Gi0SZS_e7M6D1DTXMhg58poQDybVlLVAaYZoOoq=s64",
      "userId": "15171960339512340441"
     },
     "user_tz": -180
    },
    "id": "qj8npc0B7vlS",
    "outputId": "33d267af-e210-4726-8643-56cb522f646a"
   },
   "outputs": [
    {
     "name": "stdout",
     "output_type": "stream",
     "text": [
      "Validation loss decreased (   inf ===> 0.630623). Saving the model...\n",
      "\n",
      "Epoch: 1 \tTrain Loss: 0.630622546948434 \tTrain Accuracy: 0.0\n",
      "Validation loss decreased (0.630623 ===> 0.587821). Saving the model...\n",
      "Validation loss decreased (0.587821 ===> 0.558556). Saving the model...\n",
      "Validation loss decreased (0.558556 ===> 0.535236). Saving the model...\n",
      "Validation loss decreased (0.535236 ===> 0.513635). Saving the model...\n",
      "Validation loss decreased (0.513635 ===> 0.495547). Saving the model...\n",
      "Validation loss decreased (0.495547 ===> 0.483105). Saving the model...\n",
      "Validation loss decreased (0.483105 ===> 0.471168). Saving the model...\n",
      "Validation loss decreased (0.471168 ===> 0.463551). Saving the model...\n",
      "Validation loss decreased (0.463551 ===> 0.453629). Saving the model...\n",
      "Validation loss decreased (0.453629 ===> 0.446000). Saving the model...\n",
      "Validation loss decreased (0.446000 ===> 0.443070). Saving the model...\n",
      "Validation loss decreased (0.443070 ===> 0.432502). Saving the model...\n",
      "Validation loss decreased (0.432502 ===> 0.430177). Saving the model...\n",
      "Validation loss decreased (0.430177 ===> 0.426248). Saving the model...\n",
      "Validation loss decreased (0.426248 ===> 0.424300). Saving the model...\n",
      "Validation loss decreased (0.424300 ===> 0.421465). Saving the model...\n",
      "Validation loss decreased (0.421465 ===> 0.418380). Saving the model...\n",
      "Validation loss decreased (0.418380 ===> 0.416364). Saving the model...\n",
      "Validation loss decreased (0.416364 ===> 0.405866). Saving the model...\n",
      "Validation loss decreased (0.405866 ===> 0.403526). Saving the model...\n",
      "Validation loss decreased (0.403526 ===> 0.401897). Saving the model...\n",
      "Validation loss decreased (0.401897 ===> 0.400521). Saving the model...\n",
      "Validation loss decreased (0.400521 ===> 0.398970). Saving the model...\n",
      "Validation loss decreased (0.398970 ===> 0.397562). Saving the model...\n",
      "Validation loss decreased (0.397562 ===> 0.396054). Saving the model...\n",
      "Validation loss decreased (0.396054 ===> 0.395070). Saving the model...\n",
      "Validation loss decreased (0.395070 ===> 0.390558). Saving the model...\n",
      "Validation loss decreased (0.390558 ===> 0.389606). Saving the model...\n",
      "Validation loss decreased (0.389606 ===> 0.386962). Saving the model...\n",
      "Validation loss decreased (0.386962 ===> 0.384282). Saving the model...\n",
      "Validation loss decreased (0.384282 ===> 0.380965). Saving the model...\n",
      "Validation loss decreased (0.380965 ===> 0.380653). Saving the model...\n",
      "Validation loss decreased (0.380653 ===> 0.378168). Saving the model...\n",
      "Validation loss decreased (0.378168 ===> 0.375970). Saving the model...\n",
      "Validation loss decreased (0.375970 ===> 0.374846). Saving the model...\n",
      "Validation loss decreased (0.374846 ===> 0.372232). Saving the model...\n",
      "Validation loss decreased (0.372232 ===> 0.369229). Saving the model...\n",
      "Validation loss decreased (0.369229 ===> 0.369210). Saving the model...\n",
      "Validation loss decreased (0.369210 ===> 0.366509). Saving the model...\n",
      "Validation loss decreased (0.366509 ===> 0.365962). Saving the model...\n",
      "Validation loss decreased (0.365962 ===> 0.364728). Saving the model...\n",
      "Validation loss decreased (0.364728 ===> 0.364674). Saving the model...\n",
      "\n",
      "Epoch: 201 \tTrain Loss: 0.36468286158844604 \tTrain Accuracy: 0.0\n",
      "Validation loss decreased (0.364674 ===> 0.362556). Saving the model...\n",
      "Validation loss decreased (0.362556 ===> 0.359344). Saving the model...\n",
      "Validation loss decreased (0.359344 ===> 0.357812). Saving the model...\n",
      "Validation loss decreased (0.357812 ===> 0.355313). Saving the model...\n",
      "Validation loss decreased (0.355313 ===> 0.355017). Saving the model...\n",
      "Validation loss decreased (0.355017 ===> 0.353898). Saving the model...\n",
      "Validation loss decreased (0.353898 ===> 0.353104). Saving the model...\n",
      "Validation loss decreased (0.353104 ===> 0.349799). Saving the model...\n",
      "Validation loss decreased (0.349799 ===> 0.349181). Saving the model...\n",
      "Validation loss decreased (0.349181 ===> 0.347258). Saving the model...\n",
      "Validation loss decreased (0.347258 ===> 0.345369). Saving the model...\n",
      "\n",
      "Epoch: 401 \tTrain Loss: 0.35179685365653024 \tTrain Accuracy: 0.0\n",
      "Validation loss decreased (0.345369 ===> 0.342942). Saving the model...\n",
      "Validation loss decreased (0.342942 ===> 0.338260). Saving the model...\n",
      "Training Ended! \n"
     ]
    }
   ],
   "source": [
    "batch_size = 64\n",
    "n_epochs = 500\n",
    "batch_no = len(X_train) // batch_size\n",
    "\n",
    "train_loss = 0\n",
    "train_loss_min = np.Inf\n",
    "\n",
    "for epoch in range(n_epochs):\n",
    "    for i in range(batch_no):\n",
    "        start = i*batch_size\n",
    "        end = start+batch_size\n",
    "        x_var = Variable(torch.FloatTensor(X_train[start:end]))\n",
    "        y_var = Variable(torch.LongTensor(y_train[start:end])) \n",
    "        \n",
    "        optimizer.zero_grad()\n",
    "        output = model(x_var)\n",
    "        loss = criterion(output,y_var)\n",
    "        loss.backward()\n",
    "        optimizer.step()\n",
    "        \n",
    "        values, labels = torch.max(output, 1)\n",
    "        num_right = np.sum(labels.data.numpy() == y_train[start:end])\n",
    "        train_loss += loss.item()*batch_size\n",
    "    \n",
    "    train_loss = train_loss / len(X_train)\n",
    "    if train_loss <= train_loss_min:\n",
    "        print(\"Validation loss decreased ({:6f} ===> {:6f}). Saving the model...\".format(train_loss_min,train_loss))\n",
    "        torch.save(model.state_dict(), \"model.pt\")\n",
    "        train_loss_min = train_loss\n",
    "    \n",
    "    if epoch % 200 == 0:\n",
    "        print('')\n",
    "        print(\"Epoch: {} \\tTrain Loss: {} \\tTrain Accuracy: {}\".format(epoch+1, train_loss,num_right / len(y_train[start:end]) ))\n",
    "print('Training Ended! ')"
   ]
  },
  {
   "cell_type": "code",
   "execution_count": 30,
   "metadata": {
    "colab": {},
    "colab_type": "code",
    "executionInfo": {
     "elapsed": 2256,
     "status": "ok",
     "timestamp": 1593333570809,
     "user": {
      "displayName": "Gitti Memurluk",
      "photoUrl": "https://lh3.googleusercontent.com/a-/AOh14Gi0SZS_e7M6D1DTXMhg58poQDybVlLVAaYZoOoq=s64",
      "userId": "15171960339512340441"
     },
     "user_tz": -180
    },
    "id": "PEjNtQ6W_5F_"
   },
   "outputs": [],
   "source": [
    "X_test = df_test.iloc[:,1:].values\n",
    "X_test_var = Variable(torch.FloatTensor(X_test), requires_grad=False) \n",
    "with torch.no_grad():\n",
    "    test_result = model(X_test_var)\n",
    "values, labels = torch.max(test_result, 1)\n",
    "survived = labels.data.numpy()"
   ]
  },
  {
   "cell_type": "code",
   "execution_count": null,
   "metadata": {
    "colab": {},
    "colab_type": "code",
    "id": "8y794rQzBssx"
   },
   "outputs": [],
   "source": []
  },
  {
   "cell_type": "code",
   "execution_count": null,
   "metadata": {
    "colab": {},
    "colab_type": "code",
    "id": "uLZCQDI87voC"
   },
   "outputs": [],
   "source": []
  }
 ],
 "metadata": {
  "colab": {
   "authorship_tag": "ABX9TyOKlVQg6UKKCt9yqqPrsYlu",
   "collapsed_sections": [],
   "mount_file_id": "1j1dyDwuOBJzI9SBBRdOQLaiRsatApVJL",
   "name": "ver001-pytorch.ipynb",
   "provenance": []
  },
  "kernelspec": {
   "display_name": "Python 3",
   "language": "python",
   "name": "python3"
  },
  "language_info": {
   "codemirror_mode": {
    "name": "ipython",
    "version": 3
   },
   "file_extension": ".py",
   "mimetype": "text/x-python",
   "name": "python",
   "nbconvert_exporter": "python",
   "pygments_lexer": "ipython3",
   "version": "3.7.4"
  }
 },
 "nbformat": 4,
 "nbformat_minor": 1
}
