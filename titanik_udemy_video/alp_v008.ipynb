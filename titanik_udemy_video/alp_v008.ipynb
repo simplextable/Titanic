{
 "cells": [
  {
   "cell_type": "markdown",
   "metadata": {},
   "source": [
    "Hello people. In this lecture we will examine Titanic problem. I assume you already finished some other lecture and mostly learned theorical aspect of data science. It is good opportunity to make practice. You can find information at everywhere. It is most simple thing. Courses are full of information. Here, we will give you the chance to practice and improve your skills. Assume here as a sandbag, a punching bag. Before go to a fight you need study with sandbag. But purpose is not knock down the sandbag, right?   \n",
    "\n",
    "\n",
    "But keep in mind. Our purpose is not predicting. We will predict. But it is not our main target. I know you are exited to do that. But believe me, main important skill is learning to how to examine one problem. Assume it as a rubic cube. We will learn how to move it different sides and in the light of sun we will learn to look into it from different angles. This kind of skills will bring you the success. \n",
    "\n",
    "I think you understood what is my purpose to teach. It is good. Also there is another purpose too. We need to always improve our cv or github account. But when students watch a course and practice the codes they postphone to upload them to github. They think that they can do it later or they improve their code file and upload it later. Dont do it. Dont postphone to write same codes with me and upload them to your github account please. Accept that your coding file is not perfect. Accept the defect. Please write the codes with me and upload them to your github without postphoning.  \n",
    "\n",
    "In this problem we will predict who will die, who will survive? \n",
    "\n",
    "If you are ready let we begin!\n",
    "\n"
   ]
  },
  {
   "cell_type": "markdown",
   "metadata": {},
   "source": []
  },
  {
   "cell_type": "markdown",
   "metadata": {},
   "source": [
    "Dosyaların linkini - kaggle kısaca anlat  https://www.kaggle.com/c/titanic/overview\n",
    "\n",
    "Firstly we need to download problem data files. Our web source is kaggle.com. I ll put the link to the end of video. When we solve the problem you can also send your result and get a score from competition. \n"
   ]
  },
  {
   "cell_type": "code",
   "execution_count": 3,
   "metadata": {},
   "outputs": [
    {
     "name": "stderr",
     "output_type": "stream",
     "text": [
      "In D:\\ProgramFiles\\lib\\site-packages\\matplotlib\\mpl-data\\stylelib\\_classic_test.mplstyle: \n",
      "The text.latex.preview rcparam was deprecated in Matplotlib 3.3 and will be removed two minor releases later.\n",
      "In D:\\ProgramFiles\\lib\\site-packages\\matplotlib\\mpl-data\\stylelib\\_classic_test.mplstyle: \n",
      "The mathtext.fallback_to_cm rcparam was deprecated in Matplotlib 3.3 and will be removed two minor releases later.\n",
      "In D:\\ProgramFiles\\lib\\site-packages\\matplotlib\\mpl-data\\stylelib\\_classic_test.mplstyle: Support for setting the 'mathtext.fallback_to_cm' rcParam is deprecated since 3.3 and will be removed two minor releases later; use 'mathtext.fallback : 'cm' instead.\n",
      "In D:\\ProgramFiles\\lib\\site-packages\\matplotlib\\mpl-data\\stylelib\\_classic_test.mplstyle: \n",
      "The validate_bool_maybe_none function was deprecated in Matplotlib 3.3 and will be removed two minor releases later.\n",
      "In D:\\ProgramFiles\\lib\\site-packages\\matplotlib\\mpl-data\\stylelib\\_classic_test.mplstyle: \n",
      "The savefig.jpeg_quality rcparam was deprecated in Matplotlib 3.3 and will be removed two minor releases later.\n",
      "In D:\\ProgramFiles\\lib\\site-packages\\matplotlib\\mpl-data\\stylelib\\_classic_test.mplstyle: \n",
      "The keymap.all_axes rcparam was deprecated in Matplotlib 3.3 and will be removed two minor releases later.\n",
      "In D:\\ProgramFiles\\lib\\site-packages\\matplotlib\\mpl-data\\stylelib\\_classic_test.mplstyle: \n",
      "The animation.avconv_path rcparam was deprecated in Matplotlib 3.3 and will be removed two minor releases later.\n",
      "In D:\\ProgramFiles\\lib\\site-packages\\matplotlib\\mpl-data\\stylelib\\_classic_test.mplstyle: \n",
      "The animation.avconv_args rcparam was deprecated in Matplotlib 3.3 and will be removed two minor releases later.\n"
     ]
    }
   ],
   "source": [
    "import pandas as pd\n",
    "import numpy as np\n",
    "import matplotlib.pyplot as plt\n",
    "import seaborn as sns\n",
    "from sklearn import preprocessing\n",
    "from sklearn.metrics import confusion_matrix"
   ]
  },
  {
   "cell_type": "markdown",
   "metadata": {},
   "source": [
    "!First task is writing our imports. We use pandas, numpy, matplotlib, seaborn, confusion matrix and preproccessing. "
   ]
  },
  {
   "cell_type": "markdown",
   "metadata": {},
   "source": [
    "### Veri Yükleme"
   ]
  },
  {
   "cell_type": "code",
   "execution_count": 5,
   "metadata": {},
   "outputs": [],
   "source": [
    "df_train   = pd.read_csv(\"train.csv\")\n",
    "df_test    = pd.read_csv(\"test.csv\")\n",
    "gender_sub = pd.read_csv(\"gender_submission.csv\")"
   ]
  },
  {
   "cell_type": "markdown",
   "metadata": {},
   "source": [
    "### Veri Keşfi"
   ]
  },
  {
   "cell_type": "markdown",
   "metadata": {},
   "source": []
  },
  {
   "cell_type": "code",
   "execution_count": 6,
   "metadata": {},
   "outputs": [
    {
     "name": "stderr",
     "output_type": "stream",
     "text": [
      "D:\\ProgramFiles\\lib\\site-packages\\ipykernel_launcher.py:1: FutureWarning: Sorting because non-concatenation axis is not aligned. A future version\n",
      "of pandas will change to not sort by default.\n",
      "\n",
      "To accept the future behavior, pass 'sort=False'.\n",
      "\n",
      "To retain the current behavior and silence the warning, pass 'sort=True'.\n",
      "\n",
      "  \"\"\"Entry point for launching an IPython kernel.\n"
     ]
    }
   ],
   "source": [
    "df = pd.concat([df_train,df_test],axis=0)\n",
    "# here we need to concat df_train and df_test. we will make data cleaning on one data frame and then split it again in the end."
   ]
  },
  {
   "cell_type": "code",
   "execution_count": 5,
   "metadata": {},
   "outputs": [
    {
     "data": {
      "text/html": [
       "<div>\n",
       "<style scoped>\n",
       "    .dataframe tbody tr th:only-of-type {\n",
       "        vertical-align: middle;\n",
       "    }\n",
       "\n",
       "    .dataframe tbody tr th {\n",
       "        vertical-align: top;\n",
       "    }\n",
       "\n",
       "    .dataframe thead th {\n",
       "        text-align: right;\n",
       "    }\n",
       "</style>\n",
       "<table border=\"1\" class=\"dataframe\">\n",
       "  <thead>\n",
       "    <tr style=\"text-align: right;\">\n",
       "      <th></th>\n",
       "      <th>Age</th>\n",
       "      <th>Cabin</th>\n",
       "      <th>Embarked</th>\n",
       "      <th>Fare</th>\n",
       "      <th>Name</th>\n",
       "      <th>Parch</th>\n",
       "      <th>PassengerId</th>\n",
       "      <th>Pclass</th>\n",
       "      <th>Sex</th>\n",
       "      <th>SibSp</th>\n",
       "      <th>Survived</th>\n",
       "      <th>Ticket</th>\n",
       "    </tr>\n",
       "  </thead>\n",
       "  <tbody>\n",
       "    <tr>\n",
       "      <td>0</td>\n",
       "      <td>22.0</td>\n",
       "      <td>NaN</td>\n",
       "      <td>S</td>\n",
       "      <td>7.2500</td>\n",
       "      <td>Braund, Mr. Owen Harris</td>\n",
       "      <td>0</td>\n",
       "      <td>1</td>\n",
       "      <td>3</td>\n",
       "      <td>male</td>\n",
       "      <td>1</td>\n",
       "      <td>0.0</td>\n",
       "      <td>A/5 21171</td>\n",
       "    </tr>\n",
       "    <tr>\n",
       "      <td>1</td>\n",
       "      <td>38.0</td>\n",
       "      <td>C85</td>\n",
       "      <td>C</td>\n",
       "      <td>71.2833</td>\n",
       "      <td>Cumings, Mrs. John Bradley (Florence Briggs Th...</td>\n",
       "      <td>0</td>\n",
       "      <td>2</td>\n",
       "      <td>1</td>\n",
       "      <td>female</td>\n",
       "      <td>1</td>\n",
       "      <td>1.0</td>\n",
       "      <td>PC 17599</td>\n",
       "    </tr>\n",
       "    <tr>\n",
       "      <td>2</td>\n",
       "      <td>26.0</td>\n",
       "      <td>NaN</td>\n",
       "      <td>S</td>\n",
       "      <td>7.9250</td>\n",
       "      <td>Heikkinen, Miss. Laina</td>\n",
       "      <td>0</td>\n",
       "      <td>3</td>\n",
       "      <td>3</td>\n",
       "      <td>female</td>\n",
       "      <td>0</td>\n",
       "      <td>1.0</td>\n",
       "      <td>STON/O2. 3101282</td>\n",
       "    </tr>\n",
       "    <tr>\n",
       "      <td>3</td>\n",
       "      <td>35.0</td>\n",
       "      <td>C123</td>\n",
       "      <td>S</td>\n",
       "      <td>53.1000</td>\n",
       "      <td>Futrelle, Mrs. Jacques Heath (Lily May Peel)</td>\n",
       "      <td>0</td>\n",
       "      <td>4</td>\n",
       "      <td>1</td>\n",
       "      <td>female</td>\n",
       "      <td>1</td>\n",
       "      <td>1.0</td>\n",
       "      <td>113803</td>\n",
       "    </tr>\n",
       "    <tr>\n",
       "      <td>4</td>\n",
       "      <td>35.0</td>\n",
       "      <td>NaN</td>\n",
       "      <td>S</td>\n",
       "      <td>8.0500</td>\n",
       "      <td>Allen, Mr. William Henry</td>\n",
       "      <td>0</td>\n",
       "      <td>5</td>\n",
       "      <td>3</td>\n",
       "      <td>male</td>\n",
       "      <td>0</td>\n",
       "      <td>0.0</td>\n",
       "      <td>373450</td>\n",
       "    </tr>\n",
       "    <tr>\n",
       "      <td>...</td>\n",
       "      <td>...</td>\n",
       "      <td>...</td>\n",
       "      <td>...</td>\n",
       "      <td>...</td>\n",
       "      <td>...</td>\n",
       "      <td>...</td>\n",
       "      <td>...</td>\n",
       "      <td>...</td>\n",
       "      <td>...</td>\n",
       "      <td>...</td>\n",
       "      <td>...</td>\n",
       "      <td>...</td>\n",
       "    </tr>\n",
       "    <tr>\n",
       "      <td>413</td>\n",
       "      <td>NaN</td>\n",
       "      <td>NaN</td>\n",
       "      <td>S</td>\n",
       "      <td>8.0500</td>\n",
       "      <td>Spector, Mr. Woolf</td>\n",
       "      <td>0</td>\n",
       "      <td>1305</td>\n",
       "      <td>3</td>\n",
       "      <td>male</td>\n",
       "      <td>0</td>\n",
       "      <td>NaN</td>\n",
       "      <td>A.5. 3236</td>\n",
       "    </tr>\n",
       "    <tr>\n",
       "      <td>414</td>\n",
       "      <td>39.0</td>\n",
       "      <td>C105</td>\n",
       "      <td>C</td>\n",
       "      <td>108.9000</td>\n",
       "      <td>Oliva y Ocana, Dona. Fermina</td>\n",
       "      <td>0</td>\n",
       "      <td>1306</td>\n",
       "      <td>1</td>\n",
       "      <td>female</td>\n",
       "      <td>0</td>\n",
       "      <td>NaN</td>\n",
       "      <td>PC 17758</td>\n",
       "    </tr>\n",
       "    <tr>\n",
       "      <td>415</td>\n",
       "      <td>38.5</td>\n",
       "      <td>NaN</td>\n",
       "      <td>S</td>\n",
       "      <td>7.2500</td>\n",
       "      <td>Saether, Mr. Simon Sivertsen</td>\n",
       "      <td>0</td>\n",
       "      <td>1307</td>\n",
       "      <td>3</td>\n",
       "      <td>male</td>\n",
       "      <td>0</td>\n",
       "      <td>NaN</td>\n",
       "      <td>SOTON/O.Q. 3101262</td>\n",
       "    </tr>\n",
       "    <tr>\n",
       "      <td>416</td>\n",
       "      <td>NaN</td>\n",
       "      <td>NaN</td>\n",
       "      <td>S</td>\n",
       "      <td>8.0500</td>\n",
       "      <td>Ware, Mr. Frederick</td>\n",
       "      <td>0</td>\n",
       "      <td>1308</td>\n",
       "      <td>3</td>\n",
       "      <td>male</td>\n",
       "      <td>0</td>\n",
       "      <td>NaN</td>\n",
       "      <td>359309</td>\n",
       "    </tr>\n",
       "    <tr>\n",
       "      <td>417</td>\n",
       "      <td>NaN</td>\n",
       "      <td>NaN</td>\n",
       "      <td>C</td>\n",
       "      <td>22.3583</td>\n",
       "      <td>Peter, Master. Michael J</td>\n",
       "      <td>1</td>\n",
       "      <td>1309</td>\n",
       "      <td>3</td>\n",
       "      <td>male</td>\n",
       "      <td>1</td>\n",
       "      <td>NaN</td>\n",
       "      <td>2668</td>\n",
       "    </tr>\n",
       "  </tbody>\n",
       "</table>\n",
       "<p>1309 rows × 12 columns</p>\n",
       "</div>"
      ],
      "text/plain": [
       "      Age Cabin Embarked      Fare  \\\n",
       "0    22.0   NaN        S    7.2500   \n",
       "1    38.0   C85        C   71.2833   \n",
       "2    26.0   NaN        S    7.9250   \n",
       "3    35.0  C123        S   53.1000   \n",
       "4    35.0   NaN        S    8.0500   \n",
       "..    ...   ...      ...       ...   \n",
       "413   NaN   NaN        S    8.0500   \n",
       "414  39.0  C105        C  108.9000   \n",
       "415  38.5   NaN        S    7.2500   \n",
       "416   NaN   NaN        S    8.0500   \n",
       "417   NaN   NaN        C   22.3583   \n",
       "\n",
       "                                                  Name  Parch  PassengerId  \\\n",
       "0                              Braund, Mr. Owen Harris      0            1   \n",
       "1    Cumings, Mrs. John Bradley (Florence Briggs Th...      0            2   \n",
       "2                               Heikkinen, Miss. Laina      0            3   \n",
       "3         Futrelle, Mrs. Jacques Heath (Lily May Peel)      0            4   \n",
       "4                             Allen, Mr. William Henry      0            5   \n",
       "..                                                 ...    ...          ...   \n",
       "413                                 Spector, Mr. Woolf      0         1305   \n",
       "414                       Oliva y Ocana, Dona. Fermina      0         1306   \n",
       "415                       Saether, Mr. Simon Sivertsen      0         1307   \n",
       "416                                Ware, Mr. Frederick      0         1308   \n",
       "417                           Peter, Master. Michael J      1         1309   \n",
       "\n",
       "     Pclass     Sex  SibSp  Survived              Ticket  \n",
       "0         3    male      1       0.0           A/5 21171  \n",
       "1         1  female      1       1.0            PC 17599  \n",
       "2         3  female      0       1.0    STON/O2. 3101282  \n",
       "3         1  female      1       1.0              113803  \n",
       "4         3    male      0       0.0              373450  \n",
       "..      ...     ...    ...       ...                 ...  \n",
       "413       3    male      0       NaN           A.5. 3236  \n",
       "414       1  female      0       NaN            PC 17758  \n",
       "415       3    male      0       NaN  SOTON/O.Q. 3101262  \n",
       "416       3    male      0       NaN              359309  \n",
       "417       3    male      1       NaN                2668  \n",
       "\n",
       "[1309 rows x 12 columns]"
      ]
     },
     "execution_count": 5,
     "metadata": {},
     "output_type": "execute_result"
    }
   ],
   "source": [
    "df\n",
    "#lets examine our united df variable. "
   ]
  },
  {
   "cell_type": "code",
   "execution_count": 1,
   "metadata": {
    "collapsed": true
   },
   "outputs": [
    {
     "ename": "NameError",
     "evalue": "name 'df' is not defined",
     "output_type": "error",
     "traceback": [
      "\u001b[1;31m---------------------------------------------------------------------------\u001b[0m",
      "\u001b[1;31mNameError\u001b[0m                                 Traceback (most recent call last)",
      "\u001b[1;32m<ipython-input-1-63fc94db1ef2>\u001b[0m in \u001b[0;36m<module>\u001b[1;34m\u001b[0m\n\u001b[1;32m----> 1\u001b[1;33m \u001b[0mdf\u001b[0m\u001b[1;33m[\u001b[0m\u001b[1;36m0\u001b[0m\u001b[1;33m:\u001b[0m\u001b[1;36m891\u001b[0m\u001b[1;33m]\u001b[0m\u001b[1;33m\u001b[0m\u001b[1;33m\u001b[0m\u001b[0m\n\u001b[0m",
      "\u001b[1;31mNameError\u001b[0m: name 'df' is not defined"
     ]
    }
   ],
   "source": [
    "df[0:891]"
   ]
  },
  {
   "cell_type": "code",
   "execution_count": null,
   "metadata": {},
   "outputs": [],
   "source": [
    "df[892:]\n",
    "#PART-5 burada bitiyor."
   ]
  },
  {
   "cell_type": "code",
   "execution_count": 5,
   "metadata": {},
   "outputs": [
    {
     "data": {
      "text/html": [
       "<div>\n",
       "<style scoped>\n",
       "    .dataframe tbody tr th:only-of-type {\n",
       "        vertical-align: middle;\n",
       "    }\n",
       "\n",
       "    .dataframe tbody tr th {\n",
       "        vertical-align: top;\n",
       "    }\n",
       "\n",
       "    .dataframe thead th {\n",
       "        text-align: right;\n",
       "    }\n",
       "</style>\n",
       "<table border=\"1\" class=\"dataframe\">\n",
       "  <thead>\n",
       "    <tr style=\"text-align: right;\">\n",
       "      <th></th>\n",
       "      <th>PassengerId</th>\n",
       "      <th>Survived</th>\n",
       "    </tr>\n",
       "  </thead>\n",
       "  <tbody>\n",
       "    <tr>\n",
       "      <td>0</td>\n",
       "      <td>892</td>\n",
       "      <td>0</td>\n",
       "    </tr>\n",
       "    <tr>\n",
       "      <td>1</td>\n",
       "      <td>893</td>\n",
       "      <td>1</td>\n",
       "    </tr>\n",
       "    <tr>\n",
       "      <td>2</td>\n",
       "      <td>894</td>\n",
       "      <td>0</td>\n",
       "    </tr>\n",
       "    <tr>\n",
       "      <td>3</td>\n",
       "      <td>895</td>\n",
       "      <td>0</td>\n",
       "    </tr>\n",
       "    <tr>\n",
       "      <td>4</td>\n",
       "      <td>896</td>\n",
       "      <td>1</td>\n",
       "    </tr>\n",
       "  </tbody>\n",
       "</table>\n",
       "</div>"
      ],
      "text/plain": [
       "   PassengerId  Survived\n",
       "0          892         0\n",
       "1          893         1\n",
       "2          894         0\n",
       "3          895         0\n",
       "4          896         1"
      ]
     },
     "execution_count": 5,
     "metadata": {},
     "output_type": "execute_result"
    }
   ],
   "source": [
    "#we need to also look into gender_sub variable. it is the example format for kaggle. we will make our predictions \n",
    "#in this format and upload into kaggle and take a score in leaderboard. \n",
    "gender_sub.head()"
   ]
  },
  {
   "cell_type": "code",
   "execution_count": 6,
   "metadata": {},
   "outputs": [
    {
     "name": "stdout",
     "output_type": "stream",
     "text": [
      "<class 'pandas.core.frame.DataFrame'>\n",
      "Int64Index: 1309 entries, 0 to 417\n",
      "Data columns (total 12 columns):\n",
      "Age            1046 non-null float64\n",
      "Cabin          295 non-null object\n",
      "Embarked       1307 non-null object\n",
      "Fare           1308 non-null float64\n",
      "Name           1309 non-null object\n",
      "Parch          1309 non-null int64\n",
      "PassengerId    1309 non-null int64\n",
      "Pclass         1309 non-null int64\n",
      "Sex            1309 non-null object\n",
      "SibSp          1309 non-null int64\n",
      "Survived       891 non-null float64\n",
      "Ticket         1309 non-null object\n",
      "dtypes: float64(3), int64(4), object(5)\n",
      "memory usage: 132.9+ KB\n"
     ]
    }
   ],
   "source": [
    "df.info()"
   ]
  },
  {
   "cell_type": "code",
   "execution_count": null,
   "metadata": {},
   "outputs": [],
   "source": []
  },
  {
   "cell_type": "markdown",
   "metadata": {},
   "source": [
    "### PassengerId"
   ]
  },
  {
   "cell_type": "code",
   "execution_count": 8,
   "metadata": {},
   "outputs": [
    {
     "name": "stdout",
     "output_type": "stream",
     "text": [
      "df_train['PassengerId'] benzersiz veri sayısı :  891\n",
      "df_test['PassengerId']  benzersiz veri sayısı :  418\n"
     ]
    }
   ],
   "source": [
    "print(\"df_train['PassengerId'] unique row number : \" , len(df_train[\"PassengerId\"].unique()))\n",
    "print(\"df_test['PassengerId']  unique row number : \" , len(df_test[\"PassengerId\"].unique()))"
   ]
  },
  {
   "cell_type": "markdown",
   "metadata": {},
   "source": [
    "### Survived"
   ]
  },
  {
   "cell_type": "code",
   "execution_count": 9,
   "metadata": {},
   "outputs": [
    {
     "data": {
      "text/plain": [
       "{0: 549, 1: 342}"
      ]
     },
     "execution_count": 9,
     "metadata": {},
     "output_type": "execute_result"
    }
   ],
   "source": [
    "survived_unique, survived_counts = np.unique(df_train[\"Survived\"], return_counts=True)\n",
    "sur_dict = dict(zip(survived_unique, survived_counts))\n",
    "sur_dict"
   ]
  },
  {
   "cell_type": "code",
   "execution_count": 20,
   "metadata": {},
   "outputs": [
    {
     "data": {
      "image/png": "[encoded data removed]",
      "text/plain": [
       "<Figure size 432x288 with 1 Axes>"
      ]
     },
     "metadata": {},
     "output_type": "display_data"
    }
   ],
   "source": [
    "g = sns.countplot(x=\"Survived\",data=df_train)\n"
   ]
  },
  {
   "cell_type": "markdown",
   "metadata": {},
   "source": [
    "## Age"
   ]
  },
  {
   "cell_type": "code",
   "execution_count": 109,
   "metadata": {},
   "outputs": [],
   "source": [
    "##Filling Missing Values"
   ]
  },
  {
   "cell_type": "code",
   "execution_count": 110,
   "metadata": {
    "scrolled": true
   },
   "outputs": [
    {
     "data": {
      "image/png": "[encoded data removed]",
      "text/plain": [
       "<Figure size 432x288 with 2 Axes>"
      ]
     },
     "metadata": {
      "needs_background": "light"
     },
     "output_type": "display_data"
    }
   ],
   "source": [
    "g = sns.heatmap(df_train[[\"Age\",\"SibSp\",\"Parch\",\"Pclass\",\"Fare\",\"Survived\"]].corr(),cmap=\"BrBG\",annot=True)"
   ]
  },
  {
   "cell_type": "code",
   "execution_count": 7,
   "metadata": {},
   "outputs": [
    {
     "name": "stderr",
     "output_type": "stream",
     "text": [
      "D:\\ProgramFiles\\lib\\site-packages\\pandas\\core\\indexing.py:205: SettingWithCopyWarning: \n",
      "A value is trying to be set on a copy of a slice from a DataFrame\n",
      "\n",
      "See the caveats in the documentation: http://pandas.pydata.org/pandas-docs/stable/user_guide/indexing.html#returning-a-view-versus-a-copy\n",
      "  self._setitem_with_indexer(indexer, value)\n"
     ]
    }
   ],
   "source": [
    "index_nan_age = list(df[\"Age\"][df[\"Age\"].isnull()].index)\n",
    "\n",
    "for i in index_nan_age :\n",
    "    age_med    = df[\"Age\"].median() \n",
    "    age_predict = df[\"Age\"][((df['SibSp'] == df.iloc[i][\"SibSp\"]) & (df['Parch'] == df.iloc[i][\"Parch\"]) & (df['Pclass'] == df.iloc[i][\"Pclass\"]))].median()\n",
    "    \n",
    "    if not np.isnan(age_predict) :\n",
    "        df['Age'].iloc[i] = age_predict\n",
    "    else :\n",
    "        df['Age'].iloc[i] = age_med"
   ]
  },
  {
   "cell_type": "code",
   "execution_count": 113,
   "metadata": {},
   "outputs": [
    {
     "name": "stderr",
     "output_type": "stream",
     "text": [
      "D:\\ProgramFiles\\lib\\site-packages\\seaborn\\categorical.py:3714: UserWarning: The `factorplot` function has been renamed to `catplot`. The original name will be removed in a future release. Please update your code. Note that the default `kind` in `factorplot` (`'point'`) has changed `'strip'` in `catplot`.\n",
      "  warnings.warn(msg)\n"
     ]
    },
    {
     "data": {
      "image/png": "[encoded data removed]",
      "text/plain": [
       "<Figure size 360x360 with 1 Axes>"
      ]
     },
     "metadata": {
      "needs_background": "light"
     },
     "output_type": "display_data"
    }
   ],
   "source": [
    "g = sns.factorplot(x=\"Survived\", y = \"Age\",data = df_train, kind=\"box\")\n",
    "\n"
   ]
  },
  {
   "cell_type": "code",
   "execution_count": 114,
   "metadata": {},
   "outputs": [
    {
     "data": {
      "text/plain": [
       "Text(0.5, 0.98, 'Train Data')"
      ]
     },
     "execution_count": 114,
     "metadata": {},
     "output_type": "execute_result"
    },
    {
     "data": {
      "image/png": "[encoded data removed]",
      "text/plain": [
       "<Figure size 432x216 with 2 Axes>"
      ]
     },
     "metadata": {
      "needs_background": "light"
     },
     "output_type": "display_data"
    }
   ],
   "source": [
    "import matplotlib.ticker as mtick\n",
    "\n",
    "g2 = sns.FacetGrid(df_train, col='Survived')\n",
    "g2.map(sns.histplot,  'Age', bins=20 )\n",
    "g2.fig.suptitle('Train Data')"
   ]
  },
  {
   "cell_type": "code",
   "execution_count": 115,
   "metadata": {},
   "outputs": [],
   "source": [
    "df_train.loc[ df_train['Age'] <= 16, 'Age']= 0\n",
    "df_train.loc[(df_train['Age'] > 16) & (df_train['Age'] <= 32), 'Age']= 1\n",
    "df_train.loc[(df_train['Age'] > 32) & (df_train['Age'] <= 48), 'Age']= 2\n",
    "df_train.loc[(df_train['Age'] > 48) & (df_train['Age'] <= 64), 'Age']= 3\n",
    "df_train.loc[ df_train['Age'] > 64, 'Age']= 4"
   ]
  },
  {
   "cell_type": "code",
   "execution_count": 116,
   "metadata": {},
   "outputs": [],
   "source": [
    "df_test.loc[ df_test['Age'] <= 16, 'Age']= 0\n",
    "df_test.loc[(df_test['Age'] > 16) & (df_test['Age'] <= 32), 'Age']= 1\n",
    "df_test.loc[(df_test['Age'] > 32) & (df_test['Age'] <= 48), 'Age']= 2\n",
    "df_test.loc[(df_test['Age'] > 48) & (df_test['Age'] <= 64), 'Age']= 3\n",
    "df_test.loc[ df_test['Age'] > 64, 'Age']= 4"
   ]
  },
  {
   "cell_type": "markdown",
   "metadata": {},
   "source": [
    "### Pclass"
   ]
  },
  {
   "cell_type": "code",
   "execution_count": 11,
   "metadata": {},
   "outputs": [
    {
     "data": {
      "text/plain": [
       "{1: 216, 2: 184, 3: 491}"
      ]
     },
     "execution_count": 11,
     "metadata": {},
     "output_type": "execute_result"
    }
   ],
   "source": [
    "#Train\n",
    "\n",
    "pclass_unique_train, pclass_counts_train = np.unique(df_train[\"Pclass\"], return_counts=True)\n",
    "pclass_dict_train = dict(zip(pclass_unique_train, pclass_counts_train))\n",
    "pclass_dict_train"
   ]
  },
  {
   "cell_type": "code",
   "execution_count": 12,
   "metadata": {},
   "outputs": [
    {
     "data": {
      "text/plain": [
       "{1: 107, 2: 93, 3: 218}"
      ]
     },
     "execution_count": 12,
     "metadata": {},
     "output_type": "execute_result"
    }
   ],
   "source": [
    "#Test\n",
    "\n",
    "pclass_unique_test, pclass_counts_test = np.unique(df_test[\"Pclass\"], return_counts=True)\n",
    "pclass_dict_test = dict(zip(pclass_unique_test, pclass_counts_test))\n",
    "pclass_dict_test"
   ]
  },
  {
   "cell_type": "code",
   "execution_count": 13,
   "metadata": {},
   "outputs": [
    {
     "data": {
      "text/plain": [
       "Text(0.5, 0.98, 'Train Data')"
      ]
     },
     "execution_count": 13,
     "metadata": {},
     "output_type": "execute_result"
    },
    {
     "data": {
      "image/png": "[encoded data removed]",
      "text/plain": [
       "<Figure size 432x216 with 2 Axes>"
      ]
     },
     "metadata": {
      "needs_background": "light"
     },
     "output_type": "display_data"
    }
   ],
   "source": [
    "#Train\n",
    "\n",
    "g = sns.FacetGrid(df_train, col='Survived')\n",
    "g.map(plt.hist, 'Pclass', bins=20)\n",
    "g.fig.suptitle('Train Data')\n",
    "\n",
    "#https://seaborn.pydata.org/generated/seaborn.FacetGrid.html\n",
    "\n",
    "# bu grafikte Survived ve Pclass arasında ki ilişkiyi gözlemleyebiliriz"
   ]
  },
  {
   "cell_type": "code",
   "execution_count": null,
   "metadata": {},
   "outputs": [],
   "source": []
  },
  {
   "cell_type": "markdown",
   "metadata": {},
   "source": [
    "### Name"
   ]
  },
  {
   "cell_type": "code",
   "execution_count": 14,
   "metadata": {},
   "outputs": [],
   "source": [
    "# 2. kelime tagları olduğu için işimize yarayabilir."
   ]
  },
  {
   "cell_type": "code",
   "execution_count": 102,
   "metadata": {},
   "outputs": [],
   "source": [
    "df[\"Title\"] = [i.split(\",\")[1].split(\".\")[0].strip() for i in df_train[\"Name\"]]\n"
   ]
  },
  {
   "cell_type": "markdown",
   "metadata": {},
   "source": [
    "#### Train için"
   ]
  },
  {
   "cell_type": "code",
   "execution_count": 16,
   "metadata": {},
   "outputs": [
    {
     "data": {
      "text/plain": [
       "Text(0.5, 1.0, 'Train Data Title')"
      ]
     },
     "execution_count": 16,
     "metadata": {},
     "output_type": "execute_result"
    },
    {
     "data": {
      "image/png": "[encoded data removed]",
      "text/plain": [
       "<Figure size 432x288 with 1 Axes>"
      ]
     },
     "metadata": {
      "needs_background": "light"
     },
     "output_type": "display_data"
    }
   ],
   "source": [
    "#Train için\n",
    "\n",
    "g = sns.countplot(x=\"Title\",data=df_train)\n",
    "g = plt.setp(g.get_xticklabels(), rotation=45) \n",
    "plt.title('Train Data Title')"
   ]
  },
  {
   "cell_type": "code",
   "execution_count": 17,
   "metadata": {},
   "outputs": [
    {
     "data": {
      "text/plain": [
       "{'Capt': 1,\n",
       " 'Col': 2,\n",
       " 'Don': 1,\n",
       " 'Dr': 7,\n",
       " 'Jonkheer': 1,\n",
       " 'Lady': 1,\n",
       " 'Major': 2,\n",
       " 'Master': 40,\n",
       " 'Miss': 182,\n",
       " 'Mlle': 2,\n",
       " 'Mme': 1,\n",
       " 'Mr': 517,\n",
       " 'Mrs': 125,\n",
       " 'Ms': 1,\n",
       " 'Rev': 6,\n",
       " 'Sir': 1,\n",
       " 'the Countess': 1}"
      ]
     },
     "execution_count": 17,
     "metadata": {},
     "output_type": "execute_result"
    }
   ],
   "source": [
    "title_unique_train, title_counts_train = np.unique(df_train[\"Title\"], return_counts=True)\n",
    "title_dict_train = dict(zip(title_unique_train, title_counts_train))\n",
    "title_dict_train"
   ]
  },
  {
   "cell_type": "code",
   "execution_count": 103,
   "metadata": {},
   "outputs": [
    {
     "data": {
      "text/plain": [
       "Text(0.5, 1.0, 'Train Data Title')"
      ]
     },
     "execution_count": 103,
     "metadata": {},
     "output_type": "execute_result"
    },
    {
     "data": {
      "image/png": "[encoded data removed]",
      "text/plain": [
       "<Figure size 432x288 with 1 Axes>"
      ]
     },
     "metadata": {
      "needs_background": "light"
     },
     "output_type": "display_data"
    }
   ],
   "source": [
    "df_train['Title'] = df_train['Title'].replace(['Lady','the Countess' ,'Countess','Capt', 'Col', 'Don', 'Dr', 'Major', 'Rev', 'Sir', 'Jonkheer', 'Dona'], 'Rare')\n",
    "\n",
    "df_train['Title'] = df_train['Title'].replace('Mlle', 'Miss')\n",
    "df_train['Title'] = df_train['Title'].replace('Ms', 'Miss')\n",
    "df_train['Title'] = df_train['Title'].replace('Mme', 'Mrs')\n",
    "\n",
    "# Yeni Title Dağılımı \n",
    "g = sns.countplot(x=\"Title\",data=df_train)\n",
    "g = plt.setp(g.get_xticklabels(), rotation=45) \n",
    "plt.title('Train Data Title')"
   ]
  },
  {
   "cell_type": "code",
   "execution_count": 19,
   "metadata": {},
   "outputs": [
    {
     "data": {
      "text/plain": [
       "Text(0.5, 0.98, 'Train Data')"
      ]
     },
     "execution_count": 19,
     "metadata": {},
     "output_type": "execute_result"
    },
    {
     "data": {
      "image/png": "[encoded data removed]",
      "text/plain": [
       "<Figure size 432x216 with 2 Axes>"
      ]
     },
     "metadata": {
      "needs_background": "light"
     },
     "output_type": "display_data"
    }
   ],
   "source": [
    "df_train[\"Title\"] = df_train[\"Title\"].astype('category')\n",
    "df_test[\"Title\"] = df_test[\"Title\"].astype('category')\n",
    "g2 = sns.FacetGrid(df_train, col='Survived')\n",
    "g2.map(sns.histplot,  'Title', bins=20)\n",
    "g2.fig.suptitle('Train Data')"
   ]
  },
  {
   "cell_type": "markdown",
   "metadata": {},
   "source": [
    "#### Test için"
   ]
  },
  {
   "cell_type": "code",
   "execution_count": 20,
   "metadata": {},
   "outputs": [
    {
     "data": {
      "text/plain": [
       "Text(0.5, 1.0, 'Test Data Title')"
      ]
     },
     "execution_count": 20,
     "metadata": {},
     "output_type": "execute_result"
    },
    {
     "data": {
      "image/png": "[encoded data removed]",
      "text/plain": [
       "<Figure size 432x288 with 1 Axes>"
      ]
     },
     "metadata": {
      "needs_background": "light"
     },
     "output_type": "display_data"
    }
   ],
   "source": [
    "# Test İin\n",
    "\n",
    "g = sns.countplot(x=\"Title\",data=df_test)\n",
    "g = plt.setp(g.get_xticklabels(), rotation=45) \n",
    "plt.title('Test Data Title')"
   ]
  },
  {
   "cell_type": "code",
   "execution_count": 21,
   "metadata": {},
   "outputs": [
    {
     "data": {
      "text/plain": [
       "{'Col': 2,\n",
       " 'Dona': 1,\n",
       " 'Dr': 1,\n",
       " 'Master': 21,\n",
       " 'Miss': 78,\n",
       " 'Mr': 240,\n",
       " 'Mrs': 72,\n",
       " 'Ms': 1,\n",
       " 'Rev': 2}"
      ]
     },
     "execution_count": 21,
     "metadata": {},
     "output_type": "execute_result"
    }
   ],
   "source": [
    "title_unique_test, title_counts_test = np.unique(df_test[\"Title\"], return_counts=True)\n",
    "title_dict_test = dict(zip(title_unique_test, title_counts_test))\n",
    "title_dict_test"
   ]
  },
  {
   "cell_type": "code",
   "execution_count": 104,
   "metadata": {},
   "outputs": [
    {
     "data": {
      "text/plain": [
       "Text(0.5, 1.0, 'Test Data Title')"
      ]
     },
     "execution_count": 104,
     "metadata": {},
     "output_type": "execute_result"
    },
    {
     "data": {
      "image/png": "[encoded data removed]",
      "text/plain": [
       "<Figure size 432x288 with 1 Axes>"
      ]
     },
     "metadata": {
      "needs_background": "light"
     },
     "output_type": "display_data"
    }
   ],
   "source": [
    "#rare ayarlarken sildik\n",
    "df_test['Title'] = df_test['Title'].replace(['Col', 'Dona', 'Dr', 'Rev'], 'Rare')\n",
    "\n",
    "df_test['Title'] = df_train['Title'].replace('Mlle', 'Miss')\n",
    "df_test['Title'] = df_train['Title'].replace('Ms', 'Miss')\n",
    "df_test['Title'] = df_train['Title'].replace('Mme', 'Mrs')\n",
    "\n",
    "# Yeni Title Dağılımı \n",
    "g = sns.countplot(x=\"Title\",data=df_test)\n",
    "g = plt.setp(g.get_xticklabels(), rotation=45) \n",
    "plt.title('Test Data Title')"
   ]
  },
  {
   "cell_type": "markdown",
   "metadata": {},
   "source": [
    "### Title Label Encoder "
   ]
  },
  {
   "cell_type": "code",
   "execution_count": 105,
   "metadata": {},
   "outputs": [],
   "source": [
    "le_train = preprocessing.LabelEncoder()\n",
    "df_train['Title'] = le_train.fit_transform(df_train['Title'])\n",
    "\n",
    "\n",
    "le_test = preprocessing.LabelEncoder()\n",
    "df_test['Title'] = le_test.fit_transform(df_test['Title'])"
   ]
  },
  {
   "cell_type": "markdown",
   "metadata": {},
   "source": [
    "### Sex"
   ]
  },
  {
   "cell_type": "code",
   "execution_count": 106,
   "metadata": {},
   "outputs": [],
   "source": [
    "df_train['Sex'] = df_train['Sex'].replace('male',1)\n",
    "df_train['Sex'] = df_train['Sex'].replace('female',0)\n",
    "\n",
    "df_test['Sex'] = df_test['Sex'].replace('male',1)\n",
    "df_test['Sex'] = df_test['Sex'].replace('female',0)\n"
   ]
  },
  {
   "cell_type": "code",
   "execution_count": 107,
   "metadata": {},
   "outputs": [],
   "source": [
    "df_train[\"Sex\"] = df_train[\"Sex\"].astype('int')"
   ]
  },
  {
   "cell_type": "code",
   "execution_count": 108,
   "metadata": {},
   "outputs": [
    {
     "data": {
      "text/plain": [
       "Text(0.5, 0.98, 'Train Data')"
      ]
     },
     "execution_count": 108,
     "metadata": {},
     "output_type": "execute_result"
    },
    {
     "data": {
      "image/png": "[encoded data removed]",
      "text/plain": [
       "<Figure size 432x216 with 2 Axes>"
      ]
     },
     "metadata": {
      "needs_background": "light"
     },
     "output_type": "display_data"
    }
   ],
   "source": [
    "g2 = sns.FacetGrid(df_train, col='Survived')\n",
    "g2.map(sns.histplot,  'Sex', bins=20)\n",
    "g2.fig.suptitle('Train Data')"
   ]
  },
  {
   "cell_type": "markdown",
   "metadata": {},
   "source": [
    "### SibSp"
   ]
  },
  {
   "cell_type": "code",
   "execution_count": 117,
   "metadata": {},
   "outputs": [
    {
     "data": {
      "text/plain": [
       "{0: 608, 1: 209, 2: 28, 3: 16, 4: 18, 5: 5, 8: 7}"
      ]
     },
     "execution_count": 117,
     "metadata": {},
     "output_type": "execute_result"
    }
   ],
   "source": [
    "SibSp_unique_train, SibSp_counts_train = np.unique(df_train[\"SibSp\"], return_counts=True)\n",
    "SibSp_dict_train = dict(zip(SibSp_unique_train, SibSp_counts_train))\n",
    "SibSp_dict_train"
   ]
  },
  {
   "cell_type": "code",
   "execution_count": 118,
   "metadata": {},
   "outputs": [
    {
     "data": {
      "text/plain": [
       "Text(0.5, 0.98, 'Train Data')"
      ]
     },
     "execution_count": 118,
     "metadata": {},
     "output_type": "execute_result"
    },
    {
     "data": {
      "image/png": "[encoded data removed]",
      "text/plain": [
       "<Figure size 432x432 with 4 Axes>"
      ]
     },
     "metadata": {
      "needs_background": "light"
     },
     "output_type": "display_data"
    }
   ],
   "source": [
    "# bekar erkekler ölmüş mü incele bakalım..\n",
    "\n",
    "#df_train[\"SibSp\"] = df_train[\"SibSp\"].astype('category')\n",
    "#df_test[\"SibSp\"] = df_test[\"SibSp\"].astype('category')\n",
    "\n",
    "g3 = sns.FacetGrid(df_train , row = \"Sex\", col='Survived')\n",
    "g3.map(sns.histplot,  'SibSp', bins=20)\n",
    "g3.fig.suptitle('Train Data')"
   ]
  },
  {
   "cell_type": "markdown",
   "metadata": {},
   "source": [
    "### Parch"
   ]
  },
  {
   "cell_type": "code",
   "execution_count": 119,
   "metadata": {},
   "outputs": [
    {
     "data": {
      "text/plain": [
       "{0: 678, 1: 118, 2: 80, 3: 5, 4: 4, 5: 5, 6: 1}"
      ]
     },
     "execution_count": 119,
     "metadata": {},
     "output_type": "execute_result"
    }
   ],
   "source": [
    "Parch_unique_train, Parch_counts_train = np.unique(df_train[\"Parch\"], return_counts=True)\n",
    "Parch_dict_train = dict(zip(Parch_unique_train, Parch_counts_train))\n",
    "Parch_dict_train"
   ]
  },
  {
   "cell_type": "code",
   "execution_count": 120,
   "metadata": {},
   "outputs": [
    {
     "data": {
      "text/plain": [
       "Text(0.5, 0.98, 'Train Data')"
      ]
     },
     "execution_count": 120,
     "metadata": {},
     "output_type": "execute_result"
    },
    {
     "data": {
      "image/png": "[encoded data removed]",
      "text/plain": [
       "<Figure size 432x432 with 4 Axes>"
      ]
     },
     "metadata": {
      "needs_background": "light"
     },
     "output_type": "display_data"
    }
   ],
   "source": [
    "g3 = sns.FacetGrid(df_train , row = \"Sex\", col='Survived')\n",
    "g3.map(sns.histplot,  'Parch', bins=20)\n",
    "g3.fig.suptitle('Train Data')"
   ]
  },
  {
   "cell_type": "markdown",
   "metadata": {},
   "source": [
    "### Ticket"
   ]
  },
  {
   "cell_type": "code",
   "execution_count": 121,
   "metadata": {},
   "outputs": [
    {
     "data": {
      "text/plain": [
       "{'110152': 3,\n",
       " '110413': 3,\n",
       " '110465': 2,\n",
       " '110564': 1,\n",
       " '110813': 1,\n",
       " '111240': 1,\n",
       " '111320': 1,\n",
       " '111361': 2,\n",
       " '111369': 1,\n",
       " '111426': 1,\n",
       " '111427': 1,\n",
       " '111428': 1,\n",
       " '112050': 1,\n",
       " '112052': 1,\n",
       " '112053': 1,\n",
       " '112058': 1,\n",
       " '112059': 1,\n",
       " '112277': 1,\n",
       " '112379': 1,\n",
       " '113028': 1,\n",
       " '113043': 1,\n",
       " '113050': 1,\n",
       " '113051': 1,\n",
       " '113055': 1,\n",
       " '113056': 1,\n",
       " '113059': 1,\n",
       " '113501': 1,\n",
       " '113503': 1,\n",
       " '113505': 2,\n",
       " '113509': 1,\n",
       " '113510': 1,\n",
       " '113514': 1,\n",
       " '113572': 2,\n",
       " '113760': 4,\n",
       " '113767': 1,\n",
       " '113773': 1,\n",
       " '113776': 2,\n",
       " '113781': 4,\n",
       " '113783': 1,\n",
       " '113784': 1,\n",
       " '113786': 1,\n",
       " '113787': 1,\n",
       " '113788': 1,\n",
       " '113789': 2,\n",
       " '113792': 1,\n",
       " '113794': 1,\n",
       " '113796': 1,\n",
       " '113798': 2,\n",
       " '113800': 1,\n",
       " '113803': 2,\n",
       " '113804': 1,\n",
       " '113806': 2,\n",
       " '113807': 1,\n",
       " '11668': 2,\n",
       " '11751': 2,\n",
       " '11752': 1,\n",
       " '11753': 1,\n",
       " '11755': 1,\n",
       " '11765': 1,\n",
       " '11767': 2,\n",
       " '11769': 1,\n",
       " '11771': 1,\n",
       " '11774': 1,\n",
       " '11813': 1,\n",
       " '11967': 2,\n",
       " '12233': 1,\n",
       " '12460': 1,\n",
       " '12749': 2,\n",
       " '13049': 1,\n",
       " '13213': 1,\n",
       " '13214': 1,\n",
       " '13502': 3,\n",
       " '13507': 2,\n",
       " '13509': 1,\n",
       " '13567': 1,\n",
       " '13568': 1,\n",
       " '14311': 1,\n",
       " '14312': 1,\n",
       " '14313': 1,\n",
       " '14973': 1,\n",
       " '1601': 7,\n",
       " '16966': 2,\n",
       " '16988': 1,\n",
       " '17421': 4,\n",
       " '17453': 2,\n",
       " '17463': 1,\n",
       " '17464': 1,\n",
       " '17465': 1,\n",
       " '17466': 1,\n",
       " '17474': 2,\n",
       " '17764': 1,\n",
       " '19877': 2,\n",
       " '19928': 2,\n",
       " '19943': 2,\n",
       " '19947': 1,\n",
       " '19950': 4,\n",
       " '19952': 1,\n",
       " '19972': 1,\n",
       " '19988': 1,\n",
       " '19996': 2,\n",
       " '2003': 1,\n",
       " '211536': 1,\n",
       " '21440': 1,\n",
       " '218629': 1,\n",
       " '219533': 1,\n",
       " '220367': 1,\n",
       " '220845': 2,\n",
       " '2223': 1,\n",
       " '223596': 1,\n",
       " '226593': 1,\n",
       " '226875': 1,\n",
       " '228414': 1,\n",
       " '229236': 1,\n",
       " '230080': 3,\n",
       " '230136': 2,\n",
       " '230433': 2,\n",
       " '230434': 1,\n",
       " '231919': 2,\n",
       " '231945': 1,\n",
       " '233639': 1,\n",
       " '233866': 1,\n",
       " '234360': 1,\n",
       " '234604': 1,\n",
       " '234686': 1,\n",
       " '234818': 1,\n",
       " '236171': 1,\n",
       " '236852': 1,\n",
       " '236853': 1,\n",
       " '237442': 1,\n",
       " '237565': 1,\n",
       " '237668': 1,\n",
       " '237671': 1,\n",
       " '237736': 2,\n",
       " '237789': 1,\n",
       " '237798': 1,\n",
       " '239853': 3,\n",
       " '239854': 1,\n",
       " '239855': 1,\n",
       " '239856': 1,\n",
       " '239865': 2,\n",
       " '240929': 1,\n",
       " '24160': 3,\n",
       " '243847': 2,\n",
       " '243880': 1,\n",
       " '244252': 2,\n",
       " '244270': 1,\n",
       " '244278': 1,\n",
       " '244310': 1,\n",
       " '244358': 1,\n",
       " '244361': 1,\n",
       " '244367': 2,\n",
       " '244373': 1,\n",
       " '248698': 1,\n",
       " '248706': 1,\n",
       " '248723': 1,\n",
       " '248727': 3,\n",
       " '248731': 1,\n",
       " '248733': 1,\n",
       " '248738': 2,\n",
       " '248740': 1,\n",
       " '248747': 1,\n",
       " '250643': 1,\n",
       " '250644': 2,\n",
       " '250646': 1,\n",
       " '250647': 2,\n",
       " '250648': 1,\n",
       " '250649': 2,\n",
       " '250651': 1,\n",
       " '250652': 1,\n",
       " '250653': 1,\n",
       " '250655': 2,\n",
       " '2620': 1,\n",
       " '2623': 1,\n",
       " '2624': 1,\n",
       " '2625': 1,\n",
       " '2626': 1,\n",
       " '2627': 2,\n",
       " '2628': 1,\n",
       " '2629': 1,\n",
       " '2631': 1,\n",
       " '26360': 2,\n",
       " '2641': 1,\n",
       " '2647': 1,\n",
       " '2648': 1,\n",
       " '2649': 1,\n",
       " '2650': 1,\n",
       " '2651': 2,\n",
       " '2653': 2,\n",
       " '2659': 2,\n",
       " '2661': 2,\n",
       " '2662': 1,\n",
       " '2663': 1,\n",
       " '2664': 1,\n",
       " '2665': 2,\n",
       " '2666': 4,\n",
       " '2667': 1,\n",
       " '2668': 2,\n",
       " '2669': 1,\n",
       " '26707': 1,\n",
       " '2671': 1,\n",
       " '2672': 1,\n",
       " '2674': 1,\n",
       " '2677': 1,\n",
       " '2678': 2,\n",
       " '2680': 1,\n",
       " '2683': 1,\n",
       " '2685': 1,\n",
       " '2686': 1,\n",
       " '2687': 1,\n",
       " '2689': 1,\n",
       " '2690': 1,\n",
       " '2691': 2,\n",
       " '2693': 1,\n",
       " '2694': 1,\n",
       " '2695': 1,\n",
       " '2697': 1,\n",
       " '2699': 2,\n",
       " '2700': 1,\n",
       " '27042': 1,\n",
       " '27267': 1,\n",
       " '27849': 1,\n",
       " '28134': 1,\n",
       " '28206': 1,\n",
       " '28213': 1,\n",
       " '28220': 1,\n",
       " '28228': 1,\n",
       " '28403': 2,\n",
       " '28424': 1,\n",
       " '28425': 1,\n",
       " '28551': 1,\n",
       " '28664': 1,\n",
       " '28665': 1,\n",
       " '29011': 1,\n",
       " '2908': 2,\n",
       " '29103': 1,\n",
       " '29104': 1,\n",
       " '29105': 1,\n",
       " '29106': 3,\n",
       " '29108': 1,\n",
       " '2926': 1,\n",
       " '29750': 2,\n",
       " '29751': 1,\n",
       " '3101264': 1,\n",
       " '3101265': 1,\n",
       " '3101267': 1,\n",
       " '3101276': 1,\n",
       " '3101277': 1,\n",
       " '3101278': 2,\n",
       " '3101281': 1,\n",
       " '3101295': 6,\n",
       " '3101296': 1,\n",
       " '3101298': 1,\n",
       " '31027': 2,\n",
       " '31028': 1,\n",
       " '312991': 1,\n",
       " '312992': 1,\n",
       " '312993': 1,\n",
       " '31418': 1,\n",
       " '315037': 1,\n",
       " '315082': 1,\n",
       " '315084': 1,\n",
       " '315086': 1,\n",
       " '315088': 1,\n",
       " '315089': 1,\n",
       " '315090': 1,\n",
       " '315093': 1,\n",
       " '315094': 1,\n",
       " '315096': 1,\n",
       " '315097': 1,\n",
       " '315098': 1,\n",
       " '315151': 1,\n",
       " '315153': 1,\n",
       " '323592': 1,\n",
       " '323951': 1,\n",
       " '324669': 1,\n",
       " '330877': 1,\n",
       " '330909': 1,\n",
       " '330919': 1,\n",
       " '330923': 1,\n",
       " '330931': 1,\n",
       " '330932': 1,\n",
       " '330935': 1,\n",
       " '330958': 1,\n",
       " '330959': 1,\n",
       " '330979': 1,\n",
       " '330980': 1,\n",
       " '334912': 1,\n",
       " '335097': 1,\n",
       " '335677': 1,\n",
       " '33638': 1,\n",
       " '336439': 1,\n",
       " '3411': 1,\n",
       " '341826': 1,\n",
       " '34218': 1,\n",
       " '342826': 1,\n",
       " '343095': 1,\n",
       " '343120': 1,\n",
       " '343275': 1,\n",
       " '343276': 1,\n",
       " '345364': 1,\n",
       " '345572': 1,\n",
       " '345763': 1,\n",
       " '345764': 2,\n",
       " '345765': 1,\n",
       " '345767': 1,\n",
       " '345769': 1,\n",
       " '345770': 1,\n",
       " '345773': 3,\n",
       " '345774': 1,\n",
       " '345777': 1,\n",
       " '345778': 1,\n",
       " '345779': 1,\n",
       " '345780': 1,\n",
       " '345781': 1,\n",
       " '345783': 1,\n",
       " '3460': 1,\n",
       " '347054': 2,\n",
       " '347060': 1,\n",
       " '347061': 1,\n",
       " '347062': 1,\n",
       " '347063': 1,\n",
       " '347064': 1,\n",
       " '347067': 1,\n",
       " '347068': 1,\n",
       " '347069': 1,\n",
       " '347071': 1,\n",
       " '347073': 1,\n",
       " '347074': 1,\n",
       " '347076': 1,\n",
       " '347077': 4,\n",
       " '347078': 1,\n",
       " '347080': 2,\n",
       " '347081': 1,\n",
       " '347082': 7,\n",
       " '347083': 1,\n",
       " '347085': 1,\n",
       " '347087': 1,\n",
       " '347088': 6,\n",
       " '347089': 1,\n",
       " '3474': 1,\n",
       " '347464': 1,\n",
       " '347466': 1,\n",
       " '347468': 1,\n",
       " '347470': 1,\n",
       " '347742': 3,\n",
       " '347743': 1,\n",
       " '348121': 1,\n",
       " '348123': 1,\n",
       " '348124': 1,\n",
       " '349201': 1,\n",
       " '349203': 1,\n",
       " '349204': 1,\n",
       " '349205': 1,\n",
       " '349206': 1,\n",
       " '349207': 1,\n",
       " '349208': 1,\n",
       " '349209': 1,\n",
       " '349210': 1,\n",
       " '349212': 1,\n",
       " '349213': 1,\n",
       " '349214': 1,\n",
       " '349215': 1,\n",
       " '349216': 1,\n",
       " '349217': 1,\n",
       " '349218': 1,\n",
       " '349219': 1,\n",
       " '349221': 1,\n",
       " '349222': 1,\n",
       " '349223': 1,\n",
       " '349224': 1,\n",
       " '349225': 1,\n",
       " '349227': 1,\n",
       " '349228': 1,\n",
       " '349231': 1,\n",
       " '349233': 1,\n",
       " '349234': 1,\n",
       " '349236': 1,\n",
       " '349237': 2,\n",
       " '349239': 1,\n",
       " '349240': 1,\n",
       " '349241': 1,\n",
       " '349242': 1,\n",
       " '349243': 1,\n",
       " '349244': 1,\n",
       " '349245': 1,\n",
       " '349246': 1,\n",
       " '349247': 1,\n",
       " '349248': 1,\n",
       " '349249': 1,\n",
       " '349251': 1,\n",
       " '349252': 1,\n",
       " '349253': 1,\n",
       " '349254': 1,\n",
       " '349256': 1,\n",
       " '349257': 1,\n",
       " '349909': 4,\n",
       " '349910': 1,\n",
       " '349912': 1,\n",
       " '350025': 1,\n",
       " '350026': 1,\n",
       " '350029': 1,\n",
       " '350034': 1,\n",
       " '350035': 1,\n",
       " '350036': 1,\n",
       " '350042': 1,\n",
       " '350043': 1,\n",
       " '350046': 1,\n",
       " '350047': 1,\n",
       " '350048': 1,\n",
       " '350050': 1,\n",
       " '350052': 1,\n",
       " '350060': 1,\n",
       " '350404': 1,\n",
       " '350406': 1,\n",
       " '350407': 1,\n",
       " '350417': 1,\n",
       " '35273': 3,\n",
       " '35281': 2,\n",
       " '35851': 1,\n",
       " '35852': 1,\n",
       " '358585': 2,\n",
       " '36209': 1,\n",
       " '362316': 1,\n",
       " '363291': 3,\n",
       " '363294': 1,\n",
       " '363592': 1,\n",
       " '364498': 1,\n",
       " '364499': 1,\n",
       " '364500': 1,\n",
       " '364506': 1,\n",
       " '364511': 1,\n",
       " '364512': 1,\n",
       " '364516': 2,\n",
       " '364846': 1,\n",
       " '364848': 1,\n",
       " '364849': 2,\n",
       " '364850': 1,\n",
       " '364851': 1,\n",
       " '365222': 1,\n",
       " '365226': 1,\n",
       " '36568': 1,\n",
       " '367226': 2,\n",
       " '367228': 1,\n",
       " '367229': 1,\n",
       " '367230': 2,\n",
       " '367231': 1,\n",
       " '367232': 1,\n",
       " '367655': 1,\n",
       " '368323': 1,\n",
       " '36864': 1,\n",
       " '36865': 1,\n",
       " '36866': 1,\n",
       " '368703': 1,\n",
       " '36928': 2,\n",
       " '36947': 2,\n",
       " '36963': 1,\n",
       " '36967': 1,\n",
       " '36973': 2,\n",
       " '370129': 2,\n",
       " '370365': 2,\n",
       " '370369': 1,\n",
       " '370370': 1,\n",
       " '370371': 1,\n",
       " '370372': 1,\n",
       " '370373': 1,\n",
       " '370375': 1,\n",
       " '370376': 1,\n",
       " '370377': 1,\n",
       " '371060': 1,\n",
       " '371110': 3,\n",
       " '371362': 1,\n",
       " '372622': 1,\n",
       " '373450': 1,\n",
       " '374746': 1,\n",
       " '374887': 1,\n",
       " '374910': 1,\n",
       " '376564': 2,\n",
       " '376566': 1,\n",
       " '382649': 1,\n",
       " '382651': 1,\n",
       " '382652': 5,\n",
       " '383121': 1,\n",
       " '384461': 1,\n",
       " '386525': 1,\n",
       " '392091': 1,\n",
       " '392092': 1,\n",
       " '392096': 2,\n",
       " '394140': 1,\n",
       " '4133': 4,\n",
       " '4134': 1,\n",
       " '4135': 1,\n",
       " '4136': 1,\n",
       " '4137': 1,\n",
       " '4138': 1,\n",
       " '4579': 1,\n",
       " '54636': 2,\n",
       " '5727': 1,\n",
       " '65303': 1,\n",
       " '65304': 1,\n",
       " '65306': 1,\n",
       " '6563': 1,\n",
       " '693': 1,\n",
       " '695': 1,\n",
       " '7267': 1,\n",
       " '7534': 2,\n",
       " '7540': 1,\n",
       " '7545': 1,\n",
       " '7546': 1,\n",
       " '7552': 1,\n",
       " '7553': 1,\n",
       " '7598': 1,\n",
       " '8471': 1,\n",
       " '8475': 1,\n",
       " '9234': 1,\n",
       " 'A./5. 2152': 1,\n",
       " 'A./5. 3235': 1,\n",
       " 'A.5. 11206': 1,\n",
       " 'A.5. 18509': 1,\n",
       " 'A/4 45380': 1,\n",
       " 'A/4 48871': 2,\n",
       " 'A/4. 20589': 1,\n",
       " 'A/4. 34244': 1,\n",
       " 'A/4. 39886': 1,\n",
       " 'A/5 21171': 1,\n",
       " 'A/5 21172': 1,\n",
       " 'A/5 21173': 1,\n",
       " 'A/5 21174': 1,\n",
       " 'A/5 2466': 1,\n",
       " 'A/5 2817': 1,\n",
       " 'A/5 3536': 1,\n",
       " 'A/5 3540': 1,\n",
       " 'A/5 3594': 1,\n",
       " 'A/5 3902': 1,\n",
       " 'A/5. 10482': 1,\n",
       " 'A/5. 13032': 1,\n",
       " 'A/5. 2151': 1,\n",
       " 'A/5. 3336': 2,\n",
       " 'A/5. 3337': 1,\n",
       " 'A/5. 851': 1,\n",
       " 'A/S 2816': 1,\n",
       " 'A4. 54510': 1,\n",
       " 'C 17369': 1,\n",
       " 'C 4001': 1,\n",
       " 'C 7075': 1,\n",
       " 'C 7076': 1,\n",
       " 'C 7077': 1,\n",
       " 'C.A. 17248': 1,\n",
       " 'C.A. 18723': 1,\n",
       " 'C.A. 2315': 2,\n",
       " 'C.A. 24579': 1,\n",
       " 'C.A. 24580': 1,\n",
       " 'C.A. 2673': 2,\n",
       " 'C.A. 29178': 1,\n",
       " 'C.A. 29395': 1,\n",
       " 'C.A. 29566': 1,\n",
       " 'C.A. 31026': 1,\n",
       " 'C.A. 31921': 3,\n",
       " 'C.A. 33111': 1,\n",
       " 'C.A. 33112': 2,\n",
       " 'C.A. 33595': 1,\n",
       " 'C.A. 34260': 1,\n",
       " 'C.A. 34651': 3,\n",
       " 'C.A. 37671': 2,\n",
       " 'C.A. 5547': 1,\n",
       " 'C.A. 6212': 1,\n",
       " 'C.A./SOTON 34068': 1,\n",
       " 'CA 2144': 6,\n",
       " 'CA. 2314': 1,\n",
       " 'CA. 2343': 7,\n",
       " 'F.C. 12750': 1,\n",
       " 'F.C.C. 13528': 1,\n",
       " 'F.C.C. 13529': 3,\n",
       " 'F.C.C. 13531': 1,\n",
       " 'Fa 265302': 1,\n",
       " 'LINE': 4,\n",
       " 'P/PP 3381': 2,\n",
       " 'PC 17318': 1,\n",
       " 'PC 17473': 1,\n",
       " 'PC 17474': 1,\n",
       " 'PC 17475': 1,\n",
       " 'PC 17476': 1,\n",
       " 'PC 17477': 2,\n",
       " 'PC 17482': 1,\n",
       " 'PC 17483': 1,\n",
       " 'PC 17485': 2,\n",
       " 'PC 17558': 2,\n",
       " 'PC 17569': 2,\n",
       " 'PC 17572': 3,\n",
       " 'PC 17582': 3,\n",
       " 'PC 17585': 1,\n",
       " 'PC 17590': 1,\n",
       " 'PC 17592': 1,\n",
       " 'PC 17593': 2,\n",
       " 'PC 17595': 1,\n",
       " 'PC 17596': 1,\n",
       " 'PC 17597': 1,\n",
       " 'PC 17599': 1,\n",
       " 'PC 17600': 1,\n",
       " 'PC 17601': 1,\n",
       " 'PC 17603': 1,\n",
       " 'PC 17604': 2,\n",
       " 'PC 17605': 1,\n",
       " 'PC 17608': 2,\n",
       " 'PC 17609': 1,\n",
       " 'PC 17610': 1,\n",
       " 'PC 17611': 2,\n",
       " 'PC 17612': 1,\n",
       " 'PC 17754': 1,\n",
       " 'PC 17755': 3,\n",
       " 'PC 17756': 1,\n",
       " 'PC 17757': 4,\n",
       " 'PC 17758': 2,\n",
       " 'PC 17759': 1,\n",
       " 'PC 17760': 3,\n",
       " 'PC 17761': 2,\n",
       " 'PP 4348': 1,\n",
       " 'PP 9549': 2,\n",
       " 'S.C./A.4. 23567': 1,\n",
       " 'S.C./PARIS 2079': 2,\n",
       " 'S.O./P.P. 3': 2,\n",
       " 'S.O./P.P. 751': 1,\n",
       " 'S.O.C. 14879': 5,\n",
       " 'S.O.P. 1166': 1,\n",
       " 'S.P. 3464': 1,\n",
       " 'S.W./PP 752': 1,\n",
       " 'SC 1748': 1,\n",
       " 'SC/AH 29037': 1,\n",
       " 'SC/AH 3085': 1,\n",
       " 'SC/AH Basle 541': 1,\n",
       " 'SC/PARIS 2131': 1,\n",
       " 'SC/PARIS 2133': 1,\n",
       " 'SC/PARIS 2146': 1,\n",
       " 'SC/PARIS 2149': 1,\n",
       " 'SC/PARIS 2167': 1,\n",
       " 'SC/Paris 2123': 3,\n",
       " 'SC/Paris 2163': 1,\n",
       " 'SCO/W 1585': 1,\n",
       " 'SO/C 14885': 1,\n",
       " 'SOTON/O.Q. 3101305': 1,\n",
       " 'SOTON/O.Q. 3101306': 1,\n",
       " 'SOTON/O.Q. 3101307': 1,\n",
       " 'SOTON/O.Q. 3101310': 1,\n",
       " 'SOTON/O.Q. 3101311': 1,\n",
       " 'SOTON/O.Q. 3101312': 1,\n",
       " 'SOTON/O.Q. 392078': 1,\n",
       " 'SOTON/O.Q. 392087': 1,\n",
       " 'SOTON/O2 3101272': 1,\n",
       " 'SOTON/O2 3101287': 1,\n",
       " 'SOTON/OQ 3101316': 1,\n",
       " 'SOTON/OQ 3101317': 1,\n",
       " 'SOTON/OQ 392076': 1,\n",
       " 'SOTON/OQ 392082': 1,\n",
       " 'SOTON/OQ 392086': 1,\n",
       " 'SOTON/OQ 392089': 1,\n",
       " 'SOTON/OQ 392090': 1,\n",
       " 'STON/O 2. 3101269': 1,\n",
       " 'STON/O 2. 3101273': 1,\n",
       " 'STON/O 2. 3101274': 1,\n",
       " 'STON/O 2. 3101275': 1,\n",
       " 'STON/O 2. 3101280': 1,\n",
       " 'STON/O 2. 3101285': 1,\n",
       " 'STON/O 2. 3101286': 1,\n",
       " 'STON/O 2. 3101288': 1,\n",
       " 'STON/O 2. 3101289': 1,\n",
       " 'STON/O 2. 3101292': 1,\n",
       " 'STON/O 2. 3101293': 1,\n",
       " 'STON/O 2. 3101294': 1,\n",
       " 'STON/O2. 3101271': 1,\n",
       " 'STON/O2. 3101279': 2,\n",
       " 'STON/O2. 3101282': 1,\n",
       " 'STON/O2. 3101283': 1,\n",
       " 'STON/O2. 3101290': 1,\n",
       " 'SW/PP 751': 1,\n",
       " 'W./C. 14258': 1,\n",
       " 'W./C. 14263': 1,\n",
       " 'W./C. 6607': 2,\n",
       " 'W./C. 6608': 4,\n",
       " 'W./C. 6609': 1,\n",
       " 'W.E.P. 5734': 1,\n",
       " 'W/C 14208': 1,\n",
       " 'WE/P 5735': 2}"
      ]
     },
     "execution_count": 121,
     "metadata": {},
     "output_type": "execute_result"
    }
   ],
   "source": [
    "Ticket_unique_train, Ticket_counts_train = np.unique(df_train[\"Ticket\"], return_counts=True)\n",
    "Ticket_dict_train = dict(zip(Ticket_unique_train, Ticket_counts_train))\n",
    "Ticket_dict_train"
   ]
  },
  {
   "cell_type": "markdown",
   "metadata": {},
   "source": [
    "### Fare"
   ]
  },
  {
   "cell_type": "code",
   "execution_count": 122,
   "metadata": {},
   "outputs": [
    {
     "data": {
      "text/plain": [
       "{0.0: 15,\n",
       " 4.0125: 1,\n",
       " 5.0: 1,\n",
       " 6.2375: 1,\n",
       " 6.4375: 1,\n",
       " 6.45: 1,\n",
       " 6.4958: 2,\n",
       " 6.75: 2,\n",
       " 6.8583: 1,\n",
       " 6.95: 1,\n",
       " 6.975: 2,\n",
       " 7.0458: 1,\n",
       " 7.05: 7,\n",
       " 7.0542: 2,\n",
       " 7.125: 4,\n",
       " 7.1417: 1,\n",
       " 7.225: 12,\n",
       " 7.2292: 15,\n",
       " 7.25: 13,\n",
       " 7.3125: 1,\n",
       " 7.4958: 3,\n",
       " 7.5208: 1,\n",
       " 7.55: 4,\n",
       " 7.6292: 1,\n",
       " 7.65: 4,\n",
       " 7.725: 1,\n",
       " 7.7292: 1,\n",
       " 7.7333: 4,\n",
       " 7.7375: 2,\n",
       " 7.7417: 1,\n",
       " 7.75: 34,\n",
       " 7.775: 16,\n",
       " 7.7875: 1,\n",
       " 7.7958: 6,\n",
       " 7.8: 1,\n",
       " 7.8292: 2,\n",
       " 7.8542: 13,\n",
       " 7.875: 1,\n",
       " 7.8792: 4,\n",
       " 7.8875: 1,\n",
       " 7.8958: 38,\n",
       " 7.925: 18,\n",
       " 8.0292: 1,\n",
       " 8.05: 43,\n",
       " 8.1125: 1,\n",
       " 8.1375: 1,\n",
       " 8.1583: 1,\n",
       " 8.3: 1,\n",
       " 8.3625: 1,\n",
       " 8.4042: 1,\n",
       " 8.4333: 1,\n",
       " 8.4583: 1,\n",
       " 8.5167: 1,\n",
       " 8.6542: 1,\n",
       " 8.6625: 13,\n",
       " 8.6833: 1,\n",
       " 8.7125: 1,\n",
       " 8.85: 1,\n",
       " 9.0: 2,\n",
       " 9.2167: 1,\n",
       " 9.225: 2,\n",
       " 9.35: 2,\n",
       " 9.475: 1,\n",
       " 9.4833: 1,\n",
       " 9.5: 9,\n",
       " 9.5875: 2,\n",
       " 9.825: 2,\n",
       " 9.8375: 1,\n",
       " 9.8417: 1,\n",
       " 9.8458: 1,\n",
       " 10.1708: 1,\n",
       " 10.4625: 2,\n",
       " 10.5: 24,\n",
       " 10.5167: 1,\n",
       " 11.1333: 3,\n",
       " 11.2417: 2,\n",
       " 11.5: 4,\n",
       " 12.0: 1,\n",
       " 12.275: 1,\n",
       " 12.2875: 1,\n",
       " 12.35: 3,\n",
       " 12.475: 4,\n",
       " 12.525: 1,\n",
       " 12.65: 1,\n",
       " 12.875: 1,\n",
       " 13.0: 42,\n",
       " 13.4167: 1,\n",
       " 13.5: 4,\n",
       " 13.7917: 1,\n",
       " 13.8583: 1,\n",
       " 13.8625: 1,\n",
       " 14.0: 1,\n",
       " 14.1083: 1,\n",
       " 14.4: 2,\n",
       " 14.4542: 7,\n",
       " 14.4583: 3,\n",
       " 14.5: 7,\n",
       " 15.0: 1,\n",
       " 15.0458: 1,\n",
       " 15.05: 1,\n",
       " 15.1: 1,\n",
       " 15.2458: 5,\n",
       " 15.5: 8,\n",
       " 15.55: 1,\n",
       " 15.7417: 2,\n",
       " 15.75: 1,\n",
       " 15.85: 4,\n",
       " 15.9: 2,\n",
       " 16.0: 1,\n",
       " 16.1: 9,\n",
       " 16.7: 2,\n",
       " 17.4: 1,\n",
       " 17.8: 2,\n",
       " 18.0: 3,\n",
       " 18.75: 3,\n",
       " 18.7875: 2,\n",
       " 19.2583: 4,\n",
       " 19.5: 2,\n",
       " 19.9667: 2,\n",
       " 20.2125: 2,\n",
       " 20.25: 2,\n",
       " 20.525: 3,\n",
       " 20.575: 2,\n",
       " 21.0: 6,\n",
       " 21.075: 4,\n",
       " 21.6792: 1,\n",
       " 22.025: 1,\n",
       " 22.3583: 2,\n",
       " 22.525: 1,\n",
       " 23.0: 4,\n",
       " 23.25: 2,\n",
       " 23.45: 2,\n",
       " 24.0: 2,\n",
       " 24.15: 8,\n",
       " 25.4667: 4,\n",
       " 25.5875: 1,\n",
       " 25.925: 1,\n",
       " 25.9292: 2,\n",
       " 26.0: 31,\n",
       " 26.25: 6,\n",
       " 26.2833: 1,\n",
       " 26.2875: 3,\n",
       " 26.3875: 1,\n",
       " 26.55: 15,\n",
       " 27.0: 2,\n",
       " 27.7208: 5,\n",
       " 27.75: 4,\n",
       " 27.9: 6,\n",
       " 28.5: 1,\n",
       " 28.7125: 1,\n",
       " 29.0: 2,\n",
       " 29.125: 5,\n",
       " 29.7: 3,\n",
       " 30.0: 6,\n",
       " 30.0708: 2,\n",
       " 30.5: 5,\n",
       " 30.6958: 2,\n",
       " 31.0: 3,\n",
       " 31.275: 7,\n",
       " 31.3875: 4,\n",
       " 32.3208: 1,\n",
       " 32.5: 1,\n",
       " 33.0: 3,\n",
       " 33.5: 1,\n",
       " 34.0208: 1,\n",
       " 34.375: 4,\n",
       " 34.6542: 1,\n",
       " 35.0: 1,\n",
       " 35.5: 4,\n",
       " 36.75: 2,\n",
       " 37.0042: 2,\n",
       " 38.5: 1,\n",
       " 39.0: 4,\n",
       " 39.4: 1,\n",
       " 39.6: 2,\n",
       " 39.6875: 6,\n",
       " 40.125: 1,\n",
       " 41.5792: 3,\n",
       " 42.4: 1,\n",
       " 46.9: 6,\n",
       " 47.1: 1,\n",
       " 49.5: 1,\n",
       " 49.5042: 2,\n",
       " 50.0: 1,\n",
       " 50.4958: 1,\n",
       " 51.4792: 1,\n",
       " 51.8625: 2,\n",
       " 52.0: 7,\n",
       " 52.5542: 3,\n",
       " 53.1: 5,\n",
       " 55.0: 2,\n",
       " 55.4417: 1,\n",
       " 55.9: 2,\n",
       " 56.4958: 7,\n",
       " 56.9292: 2,\n",
       " 57.0: 2,\n",
       " 57.9792: 2,\n",
       " 59.4: 1,\n",
       " 61.175: 1,\n",
       " 61.3792: 1,\n",
       " 61.9792: 1,\n",
       " 63.3583: 1,\n",
       " 65.0: 2,\n",
       " 66.6: 2,\n",
       " 69.3: 2,\n",
       " 69.55: 7,\n",
       " 71.0: 2,\n",
       " 71.2833: 1,\n",
       " 73.5: 5,\n",
       " 75.25: 1,\n",
       " 76.2917: 1,\n",
       " 76.7292: 3,\n",
       " 77.2875: 2,\n",
       " 77.9583: 3,\n",
       " 78.2667: 2,\n",
       " 78.85: 2,\n",
       " 79.2: 4,\n",
       " 79.65: 3,\n",
       " 80.0: 2,\n",
       " 81.8583: 1,\n",
       " 82.1708: 2,\n",
       " 83.1583: 3,\n",
       " 83.475: 2,\n",
       " 86.5: 3,\n",
       " 89.1042: 2,\n",
       " 90.0: 4,\n",
       " 91.0792: 2,\n",
       " 93.5: 2,\n",
       " 106.425: 2,\n",
       " 108.9: 2,\n",
       " 110.8833: 4,\n",
       " 113.275: 3,\n",
       " 120.0: 4,\n",
       " 133.65: 2,\n",
       " 134.5: 2,\n",
       " 135.6333: 3,\n",
       " 146.5208: 2,\n",
       " 151.55: 4,\n",
       " 153.4625: 3,\n",
       " 164.8667: 2,\n",
       " 211.3375: 3,\n",
       " 211.5: 1,\n",
       " 221.7792: 1,\n",
       " 227.525: 4,\n",
       " 247.5208: 2,\n",
       " 262.375: 2,\n",
       " 263.0: 4,\n",
       " 512.3292: 3}"
      ]
     },
     "execution_count": 122,
     "metadata": {},
     "output_type": "execute_result"
    }
   ],
   "source": [
    "Fare_unique_train, Fare_counts_train = np.unique(df_train[\"Fare\"], return_counts=True)\n",
    "Fare_dict_train = dict(zip(Fare_unique_train, Fare_counts_train))\n",
    "Fare_dict_train"
   ]
  },
  {
   "cell_type": "code",
   "execution_count": 123,
   "metadata": {},
   "outputs": [
    {
     "data": {
      "image/png": "[encoded data removed]",
      "text/plain": [
       "<Figure size 432x288 with 1 Axes>"
      ]
     },
     "metadata": {
      "needs_background": "light"
     },
     "output_type": "display_data"
    }
   ],
   "source": [
    "#data = pd.concat([df_train['SalePrice'], df_train[var]], axis=1)\n",
    "df_train.plot.scatter(x=\"Fare\", y='Survived');"
   ]
  },
  {
   "cell_type": "markdown",
   "metadata": {},
   "source": [
    "### Cabin"
   ]
  },
  {
   "cell_type": "code",
   "execution_count": 124,
   "metadata": {},
   "outputs": [
    {
     "data": {
      "text/plain": [
       "array([nan, 'C85', 'C123', 'E46', 'G6', 'C103', 'D56', 'A6',\n",
       "       'C23 C25 C27', 'B78', 'D33', 'B30', 'C52', 'B28', 'C83', 'F33',\n",
       "       'F G73', 'E31', 'A5', 'D10 D12', 'D26', 'C110', 'B58 B60', 'E101',\n",
       "       'F E69', 'D47', 'B86', 'F2', 'C2', 'E33', 'B19', 'A7', 'C49', 'F4',\n",
       "       'A32', 'B4', 'B80', 'A31', 'D36', 'D15', 'C93', 'C78', 'D35',\n",
       "       'C87', 'B77', 'E67', 'B94', 'C125', 'C99', 'C118', 'D7', 'A19',\n",
       "       'B49', 'D', 'C22 C26', 'C106', 'C65', 'E36', 'C54',\n",
       "       'B57 B59 B63 B66', 'C7', 'E34', 'C32', 'B18', 'C124', 'C91', 'E40',\n",
       "       'T', 'C128', 'D37', 'B35', 'E50', 'C82', 'B96 B98', 'E10', 'E44',\n",
       "       'A34', 'C104', 'C111', 'C92', 'E38', 'D21', 'E12', 'E63', 'A14',\n",
       "       'B37', 'C30', 'D20', 'B79', 'E25', 'D46', 'B73', 'C95', 'B38',\n",
       "       'B39', 'B22', 'C86', 'C70', 'A16', 'C101', 'C68', 'A10', 'E68',\n",
       "       'B41', 'A20', 'D19', 'D50', 'D9', 'A23', 'B50', 'A26', 'D48',\n",
       "       'E58', 'C126', 'B71', 'B51 B53 B55', 'D49', 'B5', 'B20', 'F G63',\n",
       "       'C62 C64', 'E24', 'C90', 'C45', 'E8', 'B101', 'D45', 'C46', 'D30',\n",
       "       'E121', 'D11', 'E77', 'F38', 'B3', 'D6', 'B82 B84', 'D17', 'A36',\n",
       "       'B102', 'B69', 'E49', 'C47', 'D28', 'E17', 'A24', 'C50', 'B42',\n",
       "       'C148'], dtype=object)"
      ]
     },
     "execution_count": 124,
     "metadata": {},
     "output_type": "execute_result"
    }
   ],
   "source": [
    "df_train[\"Cabin\"].unique()"
   ]
  },
  {
   "cell_type": "code",
   "execution_count": 125,
   "metadata": {
    "scrolled": true
   },
   "outputs": [],
   "source": [
    "df_train.loc[df_train.Cabin.str[0]==\"A\", \"Cabin\"] = 1\n",
    "df_train.loc[df_train.Cabin.str[0]==\"B\", \"Cabin\"] = 2\n",
    "df_train.loc[df_train.Cabin.str[0]==\"C\", \"Cabin\"] = 3\n",
    "df_train.loc[df_train.Cabin.str[0]==\"D\", \"Cabin\"] = 4\n",
    "df_train.loc[df_train.Cabin.str[0]==\"E\", \"Cabin\"] = 5\n",
    "df_train.loc[df_train.Cabin.str[0]==\"F\", \"Cabin\"] = 6\n",
    "df_train.loc[df_train.Cabin.str[0]==\"G\", \"Cabin\"] = 7\n",
    "df_train.loc[df_train.Cabin.str[0]==\"T\", \"Cabin\"] = 8"
   ]
  },
  {
   "cell_type": "code",
   "execution_count": 126,
   "metadata": {},
   "outputs": [
    {
     "ename": "AttributeError",
     "evalue": "Can only use .str accessor with string values!",
     "output_type": "error",
     "traceback": [
      "\u001b[1;31m---------------------------------------------------------------------------\u001b[0m",
      "\u001b[1;31mAttributeError\u001b[0m                            Traceback (most recent call last)",
      "\u001b[1;32m<ipython-input-126-8562f063fd04>\u001b[0m in \u001b[0;36m<module>\u001b[1;34m\u001b[0m\n\u001b[0;32m      6\u001b[0m \u001b[0mdf_test\u001b[0m\u001b[1;33m.\u001b[0m\u001b[0mloc\u001b[0m\u001b[1;33m[\u001b[0m\u001b[0mdf_test\u001b[0m\u001b[1;33m.\u001b[0m\u001b[0mCabin\u001b[0m\u001b[1;33m.\u001b[0m\u001b[0mstr\u001b[0m\u001b[1;33m[\u001b[0m\u001b[1;36m0\u001b[0m\u001b[1;33m]\u001b[0m\u001b[1;33m==\u001b[0m\u001b[1;34m\"F\"\u001b[0m\u001b[1;33m,\u001b[0m \u001b[1;34m\"Cabin\"\u001b[0m\u001b[1;33m]\u001b[0m \u001b[1;33m=\u001b[0m \u001b[1;36m6\u001b[0m\u001b[1;33m\u001b[0m\u001b[1;33m\u001b[0m\u001b[0m\n\u001b[0;32m      7\u001b[0m \u001b[0mdf_test\u001b[0m\u001b[1;33m.\u001b[0m\u001b[0mloc\u001b[0m\u001b[1;33m[\u001b[0m\u001b[0mdf_test\u001b[0m\u001b[1;33m.\u001b[0m\u001b[0mCabin\u001b[0m\u001b[1;33m.\u001b[0m\u001b[0mstr\u001b[0m\u001b[1;33m[\u001b[0m\u001b[1;36m0\u001b[0m\u001b[1;33m]\u001b[0m\u001b[1;33m==\u001b[0m\u001b[1;34m\"G\"\u001b[0m\u001b[1;33m,\u001b[0m \u001b[1;34m\"Cabin\"\u001b[0m\u001b[1;33m]\u001b[0m \u001b[1;33m=\u001b[0m \u001b[1;36m7\u001b[0m\u001b[1;33m\u001b[0m\u001b[1;33m\u001b[0m\u001b[0m\n\u001b[1;32m----> 8\u001b[1;33m \u001b[0mdf_test\u001b[0m\u001b[1;33m.\u001b[0m\u001b[0mloc\u001b[0m\u001b[1;33m[\u001b[0m\u001b[0mdf_test\u001b[0m\u001b[1;33m.\u001b[0m\u001b[0mCabin\u001b[0m\u001b[1;33m.\u001b[0m\u001b[0mstr\u001b[0m\u001b[1;33m[\u001b[0m\u001b[1;36m0\u001b[0m\u001b[1;33m]\u001b[0m\u001b[1;33m==\u001b[0m\u001b[1;34m\"T\"\u001b[0m\u001b[1;33m,\u001b[0m \u001b[1;34m\"Cabin\"\u001b[0m\u001b[1;33m]\u001b[0m \u001b[1;33m=\u001b[0m \u001b[1;36m8\u001b[0m\u001b[1;33m\u001b[0m\u001b[1;33m\u001b[0m\u001b[0m\n\u001b[0m",
      "\u001b[1;32mD:\\ProgramFiles\\lib\\site-packages\\pandas\\core\\generic.py\u001b[0m in \u001b[0;36m__getattr__\u001b[1;34m(self, name)\u001b[0m\n\u001b[0;32m   5173\u001b[0m             \u001b[1;32mor\u001b[0m \u001b[0mname\u001b[0m \u001b[1;32min\u001b[0m \u001b[0mself\u001b[0m\u001b[1;33m.\u001b[0m\u001b[0m_accessors\u001b[0m\u001b[1;33m\u001b[0m\u001b[1;33m\u001b[0m\u001b[0m\n\u001b[0;32m   5174\u001b[0m         ):\n\u001b[1;32m-> 5175\u001b[1;33m             \u001b[1;32mreturn\u001b[0m \u001b[0mobject\u001b[0m\u001b[1;33m.\u001b[0m\u001b[0m__getattribute__\u001b[0m\u001b[1;33m(\u001b[0m\u001b[0mself\u001b[0m\u001b[1;33m,\u001b[0m \u001b[0mname\u001b[0m\u001b[1;33m)\u001b[0m\u001b[1;33m\u001b[0m\u001b[1;33m\u001b[0m\u001b[0m\n\u001b[0m\u001b[0;32m   5176\u001b[0m         \u001b[1;32melse\u001b[0m\u001b[1;33m:\u001b[0m\u001b[1;33m\u001b[0m\u001b[1;33m\u001b[0m\u001b[0m\n\u001b[0;32m   5177\u001b[0m             \u001b[1;32mif\u001b[0m \u001b[0mself\u001b[0m\u001b[1;33m.\u001b[0m\u001b[0m_info_axis\u001b[0m\u001b[1;33m.\u001b[0m\u001b[0m_can_hold_identifiers_and_holds_name\u001b[0m\u001b[1;33m(\u001b[0m\u001b[0mname\u001b[0m\u001b[1;33m)\u001b[0m\u001b[1;33m:\u001b[0m\u001b[1;33m\u001b[0m\u001b[1;33m\u001b[0m\u001b[0m\n",
      "\u001b[1;32mD:\\ProgramFiles\\lib\\site-packages\\pandas\\core\\accessor.py\u001b[0m in \u001b[0;36m__get__\u001b[1;34m(self, obj, cls)\u001b[0m\n\u001b[0;32m    173\u001b[0m             \u001b[1;31m# we're accessing the attribute of the class, i.e., Dataset.geo\u001b[0m\u001b[1;33m\u001b[0m\u001b[1;33m\u001b[0m\u001b[1;33m\u001b[0m\u001b[0m\n\u001b[0;32m    174\u001b[0m             \u001b[1;32mreturn\u001b[0m \u001b[0mself\u001b[0m\u001b[1;33m.\u001b[0m\u001b[0m_accessor\u001b[0m\u001b[1;33m\u001b[0m\u001b[1;33m\u001b[0m\u001b[0m\n\u001b[1;32m--> 175\u001b[1;33m         \u001b[0maccessor_obj\u001b[0m \u001b[1;33m=\u001b[0m \u001b[0mself\u001b[0m\u001b[1;33m.\u001b[0m\u001b[0m_accessor\u001b[0m\u001b[1;33m(\u001b[0m\u001b[0mobj\u001b[0m\u001b[1;33m)\u001b[0m\u001b[1;33m\u001b[0m\u001b[1;33m\u001b[0m\u001b[0m\n\u001b[0m\u001b[0;32m    176\u001b[0m         \u001b[1;31m# Replace the property with the accessor object. Inspired by:\u001b[0m\u001b[1;33m\u001b[0m\u001b[1;33m\u001b[0m\u001b[1;33m\u001b[0m\u001b[0m\n\u001b[0;32m    177\u001b[0m         \u001b[1;31m# http://www.pydanny.com/cached-property.html\u001b[0m\u001b[1;33m\u001b[0m\u001b[1;33m\u001b[0m\u001b[1;33m\u001b[0m\u001b[0m\n",
      "\u001b[1;32mD:\\ProgramFiles\\lib\\site-packages\\pandas\\core\\strings.py\u001b[0m in \u001b[0;36m__init__\u001b[1;34m(self, data)\u001b[0m\n\u001b[0;32m   1915\u001b[0m \u001b[1;33m\u001b[0m\u001b[0m\n\u001b[0;32m   1916\u001b[0m     \u001b[1;32mdef\u001b[0m \u001b[0m__init__\u001b[0m\u001b[1;33m(\u001b[0m\u001b[0mself\u001b[0m\u001b[1;33m,\u001b[0m \u001b[0mdata\u001b[0m\u001b[1;33m)\u001b[0m\u001b[1;33m:\u001b[0m\u001b[1;33m\u001b[0m\u001b[1;33m\u001b[0m\u001b[0m\n\u001b[1;32m-> 1917\u001b[1;33m         \u001b[0mself\u001b[0m\u001b[1;33m.\u001b[0m\u001b[0m_inferred_dtype\u001b[0m \u001b[1;33m=\u001b[0m \u001b[0mself\u001b[0m\u001b[1;33m.\u001b[0m\u001b[0m_validate\u001b[0m\u001b[1;33m(\u001b[0m\u001b[0mdata\u001b[0m\u001b[1;33m)\u001b[0m\u001b[1;33m\u001b[0m\u001b[1;33m\u001b[0m\u001b[0m\n\u001b[0m\u001b[0;32m   1918\u001b[0m         \u001b[0mself\u001b[0m\u001b[1;33m.\u001b[0m\u001b[0m_is_categorical\u001b[0m \u001b[1;33m=\u001b[0m \u001b[0mis_categorical_dtype\u001b[0m\u001b[1;33m(\u001b[0m\u001b[0mdata\u001b[0m\u001b[1;33m)\u001b[0m\u001b[1;33m\u001b[0m\u001b[1;33m\u001b[0m\u001b[0m\n\u001b[0;32m   1919\u001b[0m \u001b[1;33m\u001b[0m\u001b[0m\n",
      "\u001b[1;32mD:\\ProgramFiles\\lib\\site-packages\\pandas\\core\\strings.py\u001b[0m in \u001b[0;36m_validate\u001b[1;34m(data)\u001b[0m\n\u001b[0;32m   1965\u001b[0m \u001b[1;33m\u001b[0m\u001b[0m\n\u001b[0;32m   1966\u001b[0m         \u001b[1;32mif\u001b[0m \u001b[0minferred_dtype\u001b[0m \u001b[1;32mnot\u001b[0m \u001b[1;32min\u001b[0m \u001b[0mallowed_types\u001b[0m\u001b[1;33m:\u001b[0m\u001b[1;33m\u001b[0m\u001b[1;33m\u001b[0m\u001b[0m\n\u001b[1;32m-> 1967\u001b[1;33m             \u001b[1;32mraise\u001b[0m \u001b[0mAttributeError\u001b[0m\u001b[1;33m(\u001b[0m\u001b[1;34m\"Can only use .str accessor with string \"\u001b[0m \u001b[1;34m\"values!\"\u001b[0m\u001b[1;33m)\u001b[0m\u001b[1;33m\u001b[0m\u001b[1;33m\u001b[0m\u001b[0m\n\u001b[0m\u001b[0;32m   1968\u001b[0m         \u001b[1;32mreturn\u001b[0m \u001b[0minferred_dtype\u001b[0m\u001b[1;33m\u001b[0m\u001b[1;33m\u001b[0m\u001b[0m\n\u001b[0;32m   1969\u001b[0m \u001b[1;33m\u001b[0m\u001b[0m\n",
      "\u001b[1;31mAttributeError\u001b[0m: Can only use .str accessor with string values!"
     ]
    }
   ],
   "source": [
    "df_test.loc[df_test.Cabin.str[0]==\"A\", \"Cabin\"] = 1\n",
    "df_test.loc[df_test.Cabin.str[0]==\"B\", \"Cabin\"] = 2\n",
    "df_test.loc[df_test.Cabin.str[0]==\"C\", \"Cabin\"] = 3\n",
    "df_test.loc[df_test.Cabin.str[0]==\"D\", \"Cabin\"] = 4\n",
    "df_test.loc[df_test.Cabin.str[0]==\"E\", \"Cabin\"] = 5\n",
    "df_test.loc[df_test.Cabin.str[0]==\"F\", \"Cabin\"] = 6\n",
    "df_test.loc[df_test.Cabin.str[0]==\"G\", \"Cabin\"] = 7\n",
    "df_test.loc[df_test.Cabin.str[0]==\"T\", \"Cabin\"] = 8"
   ]
  },
  {
   "cell_type": "code",
   "execution_count": 127,
   "metadata": {},
   "outputs": [],
   "source": [
    "df_train.Cabin= df_train.Cabin.fillna(0)\n",
    "df_test.Cabin = df_test.Cabin.fillna(0)"
   ]
  },
  {
   "cell_type": "code",
   "execution_count": 128,
   "metadata": {
    "scrolled": true
   },
   "outputs": [
    {
     "data": {
      "text/html": [
       "<div>\n",
       "<style scoped>\n",
       "    .dataframe tbody tr th:only-of-type {\n",
       "        vertical-align: middle;\n",
       "    }\n",
       "\n",
       "    .dataframe tbody tr th {\n",
       "        vertical-align: top;\n",
       "    }\n",
       "\n",
       "    .dataframe thead th {\n",
       "        text-align: right;\n",
       "    }\n",
       "</style>\n",
       "<table border=\"1\" class=\"dataframe\">\n",
       "  <thead>\n",
       "    <tr style=\"text-align: right;\">\n",
       "      <th></th>\n",
       "      <th>PassengerId</th>\n",
       "      <th>Survived</th>\n",
       "      <th>Pclass</th>\n",
       "      <th>Name</th>\n",
       "      <th>Sex</th>\n",
       "      <th>Age</th>\n",
       "      <th>SibSp</th>\n",
       "      <th>Parch</th>\n",
       "      <th>Ticket</th>\n",
       "      <th>Fare</th>\n",
       "      <th>Cabin</th>\n",
       "      <th>Embarked</th>\n",
       "      <th>Title</th>\n",
       "    </tr>\n",
       "  </thead>\n",
       "  <tbody>\n",
       "    <tr>\n",
       "      <td>0</td>\n",
       "      <td>1</td>\n",
       "      <td>0</td>\n",
       "      <td>3</td>\n",
       "      <td>Braund, Mr. Owen Harris</td>\n",
       "      <td>1</td>\n",
       "      <td>1.0</td>\n",
       "      <td>1</td>\n",
       "      <td>0</td>\n",
       "      <td>A/5 21171</td>\n",
       "      <td>7.2500</td>\n",
       "      <td>0</td>\n",
       "      <td>S</td>\n",
       "      <td>2</td>\n",
       "    </tr>\n",
       "    <tr>\n",
       "      <td>1</td>\n",
       "      <td>2</td>\n",
       "      <td>1</td>\n",
       "      <td>1</td>\n",
       "      <td>Cumings, Mrs. John Bradley (Florence Briggs Th...</td>\n",
       "      <td>0</td>\n",
       "      <td>2.0</td>\n",
       "      <td>1</td>\n",
       "      <td>0</td>\n",
       "      <td>PC 17599</td>\n",
       "      <td>71.2833</td>\n",
       "      <td>3</td>\n",
       "      <td>C</td>\n",
       "      <td>3</td>\n",
       "    </tr>\n",
       "    <tr>\n",
       "      <td>2</td>\n",
       "      <td>3</td>\n",
       "      <td>1</td>\n",
       "      <td>3</td>\n",
       "      <td>Heikkinen, Miss. Laina</td>\n",
       "      <td>0</td>\n",
       "      <td>1.0</td>\n",
       "      <td>0</td>\n",
       "      <td>0</td>\n",
       "      <td>STON/O2. 3101282</td>\n",
       "      <td>7.9250</td>\n",
       "      <td>0</td>\n",
       "      <td>S</td>\n",
       "      <td>1</td>\n",
       "    </tr>\n",
       "    <tr>\n",
       "      <td>3</td>\n",
       "      <td>4</td>\n",
       "      <td>1</td>\n",
       "      <td>1</td>\n",
       "      <td>Futrelle, Mrs. Jacques Heath (Lily May Peel)</td>\n",
       "      <td>0</td>\n",
       "      <td>2.0</td>\n",
       "      <td>1</td>\n",
       "      <td>0</td>\n",
       "      <td>113803</td>\n",
       "      <td>53.1000</td>\n",
       "      <td>3</td>\n",
       "      <td>S</td>\n",
       "      <td>3</td>\n",
       "    </tr>\n",
       "    <tr>\n",
       "      <td>4</td>\n",
       "      <td>5</td>\n",
       "      <td>0</td>\n",
       "      <td>3</td>\n",
       "      <td>Allen, Mr. William Henry</td>\n",
       "      <td>1</td>\n",
       "      <td>2.0</td>\n",
       "      <td>0</td>\n",
       "      <td>0</td>\n",
       "      <td>373450</td>\n",
       "      <td>8.0500</td>\n",
       "      <td>0</td>\n",
       "      <td>S</td>\n",
       "      <td>2</td>\n",
       "    </tr>\n",
       "    <tr>\n",
       "      <td>...</td>\n",
       "      <td>...</td>\n",
       "      <td>...</td>\n",
       "      <td>...</td>\n",
       "      <td>...</td>\n",
       "      <td>...</td>\n",
       "      <td>...</td>\n",
       "      <td>...</td>\n",
       "      <td>...</td>\n",
       "      <td>...</td>\n",
       "      <td>...</td>\n",
       "      <td>...</td>\n",
       "      <td>...</td>\n",
       "      <td>...</td>\n",
       "    </tr>\n",
       "    <tr>\n",
       "      <td>886</td>\n",
       "      <td>887</td>\n",
       "      <td>0</td>\n",
       "      <td>2</td>\n",
       "      <td>Montvila, Rev. Juozas</td>\n",
       "      <td>1</td>\n",
       "      <td>1.0</td>\n",
       "      <td>0</td>\n",
       "      <td>0</td>\n",
       "      <td>211536</td>\n",
       "      <td>13.0000</td>\n",
       "      <td>0</td>\n",
       "      <td>S</td>\n",
       "      <td>4</td>\n",
       "    </tr>\n",
       "    <tr>\n",
       "      <td>887</td>\n",
       "      <td>888</td>\n",
       "      <td>1</td>\n",
       "      <td>1</td>\n",
       "      <td>Graham, Miss. Margaret Edith</td>\n",
       "      <td>0</td>\n",
       "      <td>1.0</td>\n",
       "      <td>0</td>\n",
       "      <td>0</td>\n",
       "      <td>112053</td>\n",
       "      <td>30.0000</td>\n",
       "      <td>2</td>\n",
       "      <td>S</td>\n",
       "      <td>1</td>\n",
       "    </tr>\n",
       "    <tr>\n",
       "      <td>888</td>\n",
       "      <td>889</td>\n",
       "      <td>0</td>\n",
       "      <td>3</td>\n",
       "      <td>Johnston, Miss. Catherine Helen \"Carrie\"</td>\n",
       "      <td>0</td>\n",
       "      <td>1.0</td>\n",
       "      <td>1</td>\n",
       "      <td>2</td>\n",
       "      <td>W./C. 6607</td>\n",
       "      <td>23.4500</td>\n",
       "      <td>0</td>\n",
       "      <td>S</td>\n",
       "      <td>1</td>\n",
       "    </tr>\n",
       "    <tr>\n",
       "      <td>889</td>\n",
       "      <td>890</td>\n",
       "      <td>1</td>\n",
       "      <td>1</td>\n",
       "      <td>Behr, Mr. Karl Howell</td>\n",
       "      <td>1</td>\n",
       "      <td>1.0</td>\n",
       "      <td>0</td>\n",
       "      <td>0</td>\n",
       "      <td>111369</td>\n",
       "      <td>30.0000</td>\n",
       "      <td>3</td>\n",
       "      <td>C</td>\n",
       "      <td>2</td>\n",
       "    </tr>\n",
       "    <tr>\n",
       "      <td>890</td>\n",
       "      <td>891</td>\n",
       "      <td>0</td>\n",
       "      <td>3</td>\n",
       "      <td>Dooley, Mr. Patrick</td>\n",
       "      <td>1</td>\n",
       "      <td>1.0</td>\n",
       "      <td>0</td>\n",
       "      <td>0</td>\n",
       "      <td>370376</td>\n",
       "      <td>7.7500</td>\n",
       "      <td>0</td>\n",
       "      <td>Q</td>\n",
       "      <td>2</td>\n",
       "    </tr>\n",
       "  </tbody>\n",
       "</table>\n",
       "<p>891 rows × 13 columns</p>\n",
       "</div>"
      ],
      "text/plain": [
       "     PassengerId  Survived  Pclass  \\\n",
       "0              1         0       3   \n",
       "1              2         1       1   \n",
       "2              3         1       3   \n",
       "3              4         1       1   \n",
       "4              5         0       3   \n",
       "..           ...       ...     ...   \n",
       "886          887         0       2   \n",
       "887          888         1       1   \n",
       "888          889         0       3   \n",
       "889          890         1       1   \n",
       "890          891         0       3   \n",
       "\n",
       "                                                  Name  Sex  Age  SibSp  \\\n",
       "0                              Braund, Mr. Owen Harris    1  1.0      1   \n",
       "1    Cumings, Mrs. John Bradley (Florence Briggs Th...    0  2.0      1   \n",
       "2                               Heikkinen, Miss. Laina    0  1.0      0   \n",
       "3         Futrelle, Mrs. Jacques Heath (Lily May Peel)    0  2.0      1   \n",
       "4                             Allen, Mr. William Henry    1  2.0      0   \n",
       "..                                                 ...  ...  ...    ...   \n",
       "886                              Montvila, Rev. Juozas    1  1.0      0   \n",
       "887                       Graham, Miss. Margaret Edith    0  1.0      0   \n",
       "888           Johnston, Miss. Catherine Helen \"Carrie\"    0  1.0      1   \n",
       "889                              Behr, Mr. Karl Howell    1  1.0      0   \n",
       "890                                Dooley, Mr. Patrick    1  1.0      0   \n",
       "\n",
       "     Parch            Ticket     Fare  Cabin Embarked  Title  \n",
       "0        0         A/5 21171   7.2500      0        S      2  \n",
       "1        0          PC 17599  71.2833      3        C      3  \n",
       "2        0  STON/O2. 3101282   7.9250      0        S      1  \n",
       "3        0            113803  53.1000      3        S      3  \n",
       "4        0            373450   8.0500      0        S      2  \n",
       "..     ...               ...      ...    ...      ...    ...  \n",
       "886      0            211536  13.0000      0        S      4  \n",
       "887      0            112053  30.0000      2        S      1  \n",
       "888      2        W./C. 6607  23.4500      0        S      1  \n",
       "889      0            111369  30.0000      3        C      2  \n",
       "890      0            370376   7.7500      0        Q      2  \n",
       "\n",
       "[891 rows x 13 columns]"
      ]
     },
     "execution_count": 128,
     "metadata": {},
     "output_type": "execute_result"
    }
   ],
   "source": [
    "df_train"
   ]
  },
  {
   "cell_type": "code",
   "execution_count": 129,
   "metadata": {},
   "outputs": [
    {
     "data": {
      "text/plain": [
       "<AxesSubplot:>"
      ]
     },
     "execution_count": 129,
     "metadata": {},
     "output_type": "execute_result"
    },
    {
     "data": {
      "image/png": "[encoded data removed]",
      "text/plain": [
       "<Figure size 432x288 with 1 Axes>"
      ]
     },
     "metadata": {
      "needs_background": "light"
     },
     "output_type": "display_data"
    }
   ],
   "source": [
    "df_train['Cabin'].hist(bins = 30)"
   ]
  },
  {
   "cell_type": "markdown",
   "metadata": {},
   "source": [
    "### Embarked"
   ]
  },
  {
   "cell_type": "code",
   "execution_count": 130,
   "metadata": {},
   "outputs": [
    {
     "ename": "TypeError",
     "evalue": "'<' not supported between instances of 'float' and 'str'",
     "output_type": "error",
     "traceback": [
      "\u001b[1;31m---------------------------------------------------------------------------\u001b[0m",
      "\u001b[1;31mTypeError\u001b[0m                                 Traceback (most recent call last)",
      "\u001b[1;32m<ipython-input-130-37d7d5d6c0fd>\u001b[0m in \u001b[0;36m<module>\u001b[1;34m\u001b[0m\n\u001b[1;32m----> 1\u001b[1;33m \u001b[0mEmbarked_unique_train\u001b[0m\u001b[1;33m,\u001b[0m \u001b[0mEmbarked_counts_train\u001b[0m \u001b[1;33m=\u001b[0m \u001b[0mnp\u001b[0m\u001b[1;33m.\u001b[0m\u001b[0munique\u001b[0m\u001b[1;33m(\u001b[0m\u001b[0mdf_train\u001b[0m\u001b[1;33m[\u001b[0m\u001b[1;34m\"Embarked\"\u001b[0m\u001b[1;33m]\u001b[0m\u001b[1;33m,\u001b[0m \u001b[0mreturn_counts\u001b[0m\u001b[1;33m=\u001b[0m\u001b[1;32mTrue\u001b[0m\u001b[1;33m)\u001b[0m\u001b[1;33m\u001b[0m\u001b[1;33m\u001b[0m\u001b[0m\n\u001b[0m\u001b[0;32m      2\u001b[0m \u001b[0mEmbarked_dict_train\u001b[0m \u001b[1;33m=\u001b[0m \u001b[0mdict\u001b[0m\u001b[1;33m(\u001b[0m\u001b[0mzip\u001b[0m\u001b[1;33m(\u001b[0m\u001b[0mEmbarked_unique_train\u001b[0m\u001b[1;33m,\u001b[0m \u001b[0mEmbarked_counts_train\u001b[0m\u001b[1;33m)\u001b[0m\u001b[1;33m)\u001b[0m\u001b[1;33m\u001b[0m\u001b[1;33m\u001b[0m\u001b[0m\n\u001b[0;32m      3\u001b[0m \u001b[0mEmbarked_dict_train\u001b[0m\u001b[1;33m\u001b[0m\u001b[1;33m\u001b[0m\u001b[0m\n",
      "\u001b[1;32m<__array_function__ internals>\u001b[0m in \u001b[0;36munique\u001b[1;34m(*args, **kwargs)\u001b[0m\n",
      "\u001b[1;32mD:\\ProgramFiles\\lib\\site-packages\\numpy\\lib\\arraysetops.py\u001b[0m in \u001b[0;36munique\u001b[1;34m(ar, return_index, return_inverse, return_counts, axis)\u001b[0m\n\u001b[0;32m    261\u001b[0m     \u001b[0mar\u001b[0m \u001b[1;33m=\u001b[0m \u001b[0mnp\u001b[0m\u001b[1;33m.\u001b[0m\u001b[0masanyarray\u001b[0m\u001b[1;33m(\u001b[0m\u001b[0mar\u001b[0m\u001b[1;33m)\u001b[0m\u001b[1;33m\u001b[0m\u001b[1;33m\u001b[0m\u001b[0m\n\u001b[0;32m    262\u001b[0m     \u001b[1;32mif\u001b[0m \u001b[0maxis\u001b[0m \u001b[1;32mis\u001b[0m \u001b[1;32mNone\u001b[0m\u001b[1;33m:\u001b[0m\u001b[1;33m\u001b[0m\u001b[1;33m\u001b[0m\u001b[0m\n\u001b[1;32m--> 263\u001b[1;33m         \u001b[0mret\u001b[0m \u001b[1;33m=\u001b[0m \u001b[0m_unique1d\u001b[0m\u001b[1;33m(\u001b[0m\u001b[0mar\u001b[0m\u001b[1;33m,\u001b[0m \u001b[0mreturn_index\u001b[0m\u001b[1;33m,\u001b[0m \u001b[0mreturn_inverse\u001b[0m\u001b[1;33m,\u001b[0m \u001b[0mreturn_counts\u001b[0m\u001b[1;33m)\u001b[0m\u001b[1;33m\u001b[0m\u001b[1;33m\u001b[0m\u001b[0m\n\u001b[0m\u001b[0;32m    264\u001b[0m         \u001b[1;32mreturn\u001b[0m \u001b[0m_unpack_tuple\u001b[0m\u001b[1;33m(\u001b[0m\u001b[0mret\u001b[0m\u001b[1;33m)\u001b[0m\u001b[1;33m\u001b[0m\u001b[1;33m\u001b[0m\u001b[0m\n\u001b[0;32m    265\u001b[0m \u001b[1;33m\u001b[0m\u001b[0m\n",
      "\u001b[1;32mD:\\ProgramFiles\\lib\\site-packages\\numpy\\lib\\arraysetops.py\u001b[0m in \u001b[0;36m_unique1d\u001b[1;34m(ar, return_index, return_inverse, return_counts)\u001b[0m\n\u001b[0;32m    309\u001b[0m         \u001b[0maux\u001b[0m \u001b[1;33m=\u001b[0m \u001b[0mar\u001b[0m\u001b[1;33m[\u001b[0m\u001b[0mperm\u001b[0m\u001b[1;33m]\u001b[0m\u001b[1;33m\u001b[0m\u001b[1;33m\u001b[0m\u001b[0m\n\u001b[0;32m    310\u001b[0m     \u001b[1;32melse\u001b[0m\u001b[1;33m:\u001b[0m\u001b[1;33m\u001b[0m\u001b[1;33m\u001b[0m\u001b[0m\n\u001b[1;32m--> 311\u001b[1;33m         \u001b[0mar\u001b[0m\u001b[1;33m.\u001b[0m\u001b[0msort\u001b[0m\u001b[1;33m(\u001b[0m\u001b[1;33m)\u001b[0m\u001b[1;33m\u001b[0m\u001b[1;33m\u001b[0m\u001b[0m\n\u001b[0m\u001b[0;32m    312\u001b[0m         \u001b[0maux\u001b[0m \u001b[1;33m=\u001b[0m \u001b[0mar\u001b[0m\u001b[1;33m\u001b[0m\u001b[1;33m\u001b[0m\u001b[0m\n\u001b[0;32m    313\u001b[0m     \u001b[0mmask\u001b[0m \u001b[1;33m=\u001b[0m \u001b[0mnp\u001b[0m\u001b[1;33m.\u001b[0m\u001b[0mempty\u001b[0m\u001b[1;33m(\u001b[0m\u001b[0maux\u001b[0m\u001b[1;33m.\u001b[0m\u001b[0mshape\u001b[0m\u001b[1;33m,\u001b[0m \u001b[0mdtype\u001b[0m\u001b[1;33m=\u001b[0m\u001b[0mnp\u001b[0m\u001b[1;33m.\u001b[0m\u001b[0mbool_\u001b[0m\u001b[1;33m)\u001b[0m\u001b[1;33m\u001b[0m\u001b[1;33m\u001b[0m\u001b[0m\n",
      "\u001b[1;31mTypeError\u001b[0m: '<' not supported between instances of 'float' and 'str'"
     ]
    }
   ],
   "source": [
    "Embarked_unique_train, Embarked_counts_train = np.unique(df_train[\"Embarked\"], return_counts=True)\n",
    "Embarked_dict_train = dict(zip(Embarked_unique_train, Embarked_counts_train))\n",
    "Embarked_dict_train"
   ]
  },
  {
   "cell_type": "code",
   "execution_count": 131,
   "metadata": {},
   "outputs": [
    {
     "data": {
      "text/plain": [
       "array(['S', 'C', 'Q', nan], dtype=object)"
      ]
     },
     "execution_count": 131,
     "metadata": {},
     "output_type": "execute_result"
    }
   ],
   "source": [
    "df_train.Embarked.unique()"
   ]
  },
  {
   "cell_type": "code",
   "execution_count": 133,
   "metadata": {},
   "outputs": [],
   "source": [
    "df_train.Embarked=df_train.Embarked.fillna(0)\n",
    "df_train.loc[df_train.Embarked.str[0]==\"S\", \"Embarked\"] = 1\n",
    "df_train.loc[df_train.Embarked.str[0]==\"Q\", \"Embarked\"] = 2\n",
    "df_train.loc[df_train.Embarked.str[0]==\"C\", \"Embarked\"] = 3\n"
   ]
  },
  {
   "cell_type": "code",
   "execution_count": 136,
   "metadata": {},
   "outputs": [],
   "source": [
    "df_test.Embarked=df_test.Embarked.fillna(0)\n",
    "df_test.loc[df_test.Embarked.str[0]==\"S\", \"Embarked\"] = 1\n",
    "df_test.loc[df_test.Embarked.str[0]==\"Q\", \"Embarked\"] = 2\n",
    "df_test.loc[df_test.Embarked.str[0]==\"C\", \"Embarked\"] = 3\n"
   ]
  },
  {
   "cell_type": "code",
   "execution_count": 134,
   "metadata": {},
   "outputs": [
    {
     "data": {
      "image/png": "[encoded data removed]",
      "text/plain": [
       "<Figure size 432x288 with 1 Axes>"
      ]
     },
     "metadata": {
      "needs_background": "light"
     },
     "output_type": "display_data"
    }
   ],
   "source": [
    "#grafik = pd.concat([df_train['SalePrice'], df_train[\"Embarked\"]], axis=1)\n",
    "df_train.plot.scatter(x=\"Embarked\", y='Fare');"
   ]
  },
  {
   "cell_type": "code",
   "execution_count": 135,
   "metadata": {},
   "outputs": [
    {
     "data": {
      "text/html": [
       "<div>\n",
       "<style scoped>\n",
       "    .dataframe tbody tr th:only-of-type {\n",
       "        vertical-align: middle;\n",
       "    }\n",
       "\n",
       "    .dataframe tbody tr th {\n",
       "        vertical-align: top;\n",
       "    }\n",
       "\n",
       "    .dataframe thead th {\n",
       "        text-align: right;\n",
       "    }\n",
       "</style>\n",
       "<table border=\"1\" class=\"dataframe\">\n",
       "  <thead>\n",
       "    <tr style=\"text-align: right;\">\n",
       "      <th></th>\n",
       "      <th>PassengerId</th>\n",
       "      <th>Survived</th>\n",
       "      <th>Pclass</th>\n",
       "      <th>Name</th>\n",
       "      <th>Sex</th>\n",
       "      <th>Age</th>\n",
       "      <th>SibSp</th>\n",
       "      <th>Parch</th>\n",
       "      <th>Ticket</th>\n",
       "      <th>Fare</th>\n",
       "      <th>Cabin</th>\n",
       "      <th>Embarked</th>\n",
       "      <th>Title</th>\n",
       "    </tr>\n",
       "  </thead>\n",
       "  <tbody>\n",
       "    <tr>\n",
       "      <td>61</td>\n",
       "      <td>62</td>\n",
       "      <td>1</td>\n",
       "      <td>1</td>\n",
       "      <td>Icard, Miss. Amelie</td>\n",
       "      <td>0</td>\n",
       "      <td>2.0</td>\n",
       "      <td>0</td>\n",
       "      <td>0</td>\n",
       "      <td>113572</td>\n",
       "      <td>80.0</td>\n",
       "      <td>2</td>\n",
       "      <td>0</td>\n",
       "      <td>1</td>\n",
       "    </tr>\n",
       "    <tr>\n",
       "      <td>829</td>\n",
       "      <td>830</td>\n",
       "      <td>1</td>\n",
       "      <td>1</td>\n",
       "      <td>Stone, Mrs. George Nelson (Martha Evelyn)</td>\n",
       "      <td>0</td>\n",
       "      <td>3.0</td>\n",
       "      <td>0</td>\n",
       "      <td>0</td>\n",
       "      <td>113572</td>\n",
       "      <td>80.0</td>\n",
       "      <td>2</td>\n",
       "      <td>0</td>\n",
       "      <td>3</td>\n",
       "    </tr>\n",
       "  </tbody>\n",
       "</table>\n",
       "</div>"
      ],
      "text/plain": [
       "     PassengerId  Survived  Pclass                                       Name  \\\n",
       "61            62         1       1                        Icard, Miss. Amelie   \n",
       "829          830         1       1  Stone, Mrs. George Nelson (Martha Evelyn)   \n",
       "\n",
       "     Sex  Age  SibSp  Parch  Ticket  Fare  Cabin  Embarked  Title  \n",
       "61     0  2.0      0      0  113572  80.0      2         0      1  \n",
       "829    0  3.0      0      0  113572  80.0      2         0      3  "
      ]
     },
     "execution_count": 135,
     "metadata": {},
     "output_type": "execute_result"
    }
   ],
   "source": [
    "df_train[df_train.Embarked == 0]"
   ]
  },
  {
   "cell_type": "code",
   "execution_count": null,
   "metadata": {},
   "outputs": [],
   "source": []
  },
  {
   "cell_type": "code",
   "execution_count": 137,
   "metadata": {},
   "outputs": [
    {
     "data": {
      "text/html": [
       "<div>\n",
       "<style scoped>\n",
       "    .dataframe tbody tr th:only-of-type {\n",
       "        vertical-align: middle;\n",
       "    }\n",
       "\n",
       "    .dataframe tbody tr th {\n",
       "        vertical-align: top;\n",
       "    }\n",
       "\n",
       "    .dataframe thead th {\n",
       "        text-align: right;\n",
       "    }\n",
       "</style>\n",
       "<table border=\"1\" class=\"dataframe\">\n",
       "  <thead>\n",
       "    <tr style=\"text-align: right;\">\n",
       "      <th></th>\n",
       "      <th>PassengerId</th>\n",
       "      <th>Survived</th>\n",
       "      <th>Pclass</th>\n",
       "      <th>Name</th>\n",
       "      <th>Sex</th>\n",
       "      <th>Age</th>\n",
       "      <th>SibSp</th>\n",
       "      <th>Parch</th>\n",
       "      <th>Ticket</th>\n",
       "      <th>Fare</th>\n",
       "      <th>Cabin</th>\n",
       "      <th>Embarked</th>\n",
       "      <th>Title</th>\n",
       "    </tr>\n",
       "  </thead>\n",
       "  <tbody>\n",
       "    <tr>\n",
       "      <td>0</td>\n",
       "      <td>1</td>\n",
       "      <td>0</td>\n",
       "      <td>3</td>\n",
       "      <td>Braund, Mr. Owen Harris</td>\n",
       "      <td>1</td>\n",
       "      <td>1.0</td>\n",
       "      <td>1</td>\n",
       "      <td>0</td>\n",
       "      <td>A/5 21171</td>\n",
       "      <td>7.2500</td>\n",
       "      <td>0</td>\n",
       "      <td>1</td>\n",
       "      <td>2</td>\n",
       "    </tr>\n",
       "    <tr>\n",
       "      <td>1</td>\n",
       "      <td>2</td>\n",
       "      <td>1</td>\n",
       "      <td>1</td>\n",
       "      <td>Cumings, Mrs. John Bradley (Florence Briggs Th...</td>\n",
       "      <td>0</td>\n",
       "      <td>2.0</td>\n",
       "      <td>1</td>\n",
       "      <td>0</td>\n",
       "      <td>PC 17599</td>\n",
       "      <td>71.2833</td>\n",
       "      <td>3</td>\n",
       "      <td>3</td>\n",
       "      <td>3</td>\n",
       "    </tr>\n",
       "    <tr>\n",
       "      <td>2</td>\n",
       "      <td>3</td>\n",
       "      <td>1</td>\n",
       "      <td>3</td>\n",
       "      <td>Heikkinen, Miss. Laina</td>\n",
       "      <td>0</td>\n",
       "      <td>1.0</td>\n",
       "      <td>0</td>\n",
       "      <td>0</td>\n",
       "      <td>STON/O2. 3101282</td>\n",
       "      <td>7.9250</td>\n",
       "      <td>0</td>\n",
       "      <td>1</td>\n",
       "      <td>1</td>\n",
       "    </tr>\n",
       "    <tr>\n",
       "      <td>3</td>\n",
       "      <td>4</td>\n",
       "      <td>1</td>\n",
       "      <td>1</td>\n",
       "      <td>Futrelle, Mrs. Jacques Heath (Lily May Peel)</td>\n",
       "      <td>0</td>\n",
       "      <td>2.0</td>\n",
       "      <td>1</td>\n",
       "      <td>0</td>\n",
       "      <td>113803</td>\n",
       "      <td>53.1000</td>\n",
       "      <td>3</td>\n",
       "      <td>1</td>\n",
       "      <td>3</td>\n",
       "    </tr>\n",
       "    <tr>\n",
       "      <td>4</td>\n",
       "      <td>5</td>\n",
       "      <td>0</td>\n",
       "      <td>3</td>\n",
       "      <td>Allen, Mr. William Henry</td>\n",
       "      <td>1</td>\n",
       "      <td>2.0</td>\n",
       "      <td>0</td>\n",
       "      <td>0</td>\n",
       "      <td>373450</td>\n",
       "      <td>8.0500</td>\n",
       "      <td>0</td>\n",
       "      <td>1</td>\n",
       "      <td>2</td>\n",
       "    </tr>\n",
       "    <tr>\n",
       "      <td>...</td>\n",
       "      <td>...</td>\n",
       "      <td>...</td>\n",
       "      <td>...</td>\n",
       "      <td>...</td>\n",
       "      <td>...</td>\n",
       "      <td>...</td>\n",
       "      <td>...</td>\n",
       "      <td>...</td>\n",
       "      <td>...</td>\n",
       "      <td>...</td>\n",
       "      <td>...</td>\n",
       "      <td>...</td>\n",
       "      <td>...</td>\n",
       "    </tr>\n",
       "    <tr>\n",
       "      <td>886</td>\n",
       "      <td>887</td>\n",
       "      <td>0</td>\n",
       "      <td>2</td>\n",
       "      <td>Montvila, Rev. Juozas</td>\n",
       "      <td>1</td>\n",
       "      <td>1.0</td>\n",
       "      <td>0</td>\n",
       "      <td>0</td>\n",
       "      <td>211536</td>\n",
       "      <td>13.0000</td>\n",
       "      <td>0</td>\n",
       "      <td>1</td>\n",
       "      <td>4</td>\n",
       "    </tr>\n",
       "    <tr>\n",
       "      <td>887</td>\n",
       "      <td>888</td>\n",
       "      <td>1</td>\n",
       "      <td>1</td>\n",
       "      <td>Graham, Miss. Margaret Edith</td>\n",
       "      <td>0</td>\n",
       "      <td>1.0</td>\n",
       "      <td>0</td>\n",
       "      <td>0</td>\n",
       "      <td>112053</td>\n",
       "      <td>30.0000</td>\n",
       "      <td>2</td>\n",
       "      <td>1</td>\n",
       "      <td>1</td>\n",
       "    </tr>\n",
       "    <tr>\n",
       "      <td>888</td>\n",
       "      <td>889</td>\n",
       "      <td>0</td>\n",
       "      <td>3</td>\n",
       "      <td>Johnston, Miss. Catherine Helen \"Carrie\"</td>\n",
       "      <td>0</td>\n",
       "      <td>1.0</td>\n",
       "      <td>1</td>\n",
       "      <td>2</td>\n",
       "      <td>W./C. 6607</td>\n",
       "      <td>23.4500</td>\n",
       "      <td>0</td>\n",
       "      <td>1</td>\n",
       "      <td>1</td>\n",
       "    </tr>\n",
       "    <tr>\n",
       "      <td>889</td>\n",
       "      <td>890</td>\n",
       "      <td>1</td>\n",
       "      <td>1</td>\n",
       "      <td>Behr, Mr. Karl Howell</td>\n",
       "      <td>1</td>\n",
       "      <td>1.0</td>\n",
       "      <td>0</td>\n",
       "      <td>0</td>\n",
       "      <td>111369</td>\n",
       "      <td>30.0000</td>\n",
       "      <td>3</td>\n",
       "      <td>3</td>\n",
       "      <td>2</td>\n",
       "    </tr>\n",
       "    <tr>\n",
       "      <td>890</td>\n",
       "      <td>891</td>\n",
       "      <td>0</td>\n",
       "      <td>3</td>\n",
       "      <td>Dooley, Mr. Patrick</td>\n",
       "      <td>1</td>\n",
       "      <td>1.0</td>\n",
       "      <td>0</td>\n",
       "      <td>0</td>\n",
       "      <td>370376</td>\n",
       "      <td>7.7500</td>\n",
       "      <td>0</td>\n",
       "      <td>2</td>\n",
       "      <td>2</td>\n",
       "    </tr>\n",
       "  </tbody>\n",
       "</table>\n",
       "<p>891 rows × 13 columns</p>\n",
       "</div>"
      ],
      "text/plain": [
       "     PassengerId  Survived  Pclass  \\\n",
       "0              1         0       3   \n",
       "1              2         1       1   \n",
       "2              3         1       3   \n",
       "3              4         1       1   \n",
       "4              5         0       3   \n",
       "..           ...       ...     ...   \n",
       "886          887         0       2   \n",
       "887          888         1       1   \n",
       "888          889         0       3   \n",
       "889          890         1       1   \n",
       "890          891         0       3   \n",
       "\n",
       "                                                  Name  Sex  Age  SibSp  \\\n",
       "0                              Braund, Mr. Owen Harris    1  1.0      1   \n",
       "1    Cumings, Mrs. John Bradley (Florence Briggs Th...    0  2.0      1   \n",
       "2                               Heikkinen, Miss. Laina    0  1.0      0   \n",
       "3         Futrelle, Mrs. Jacques Heath (Lily May Peel)    0  2.0      1   \n",
       "4                             Allen, Mr. William Henry    1  2.0      0   \n",
       "..                                                 ...  ...  ...    ...   \n",
       "886                              Montvila, Rev. Juozas    1  1.0      0   \n",
       "887                       Graham, Miss. Margaret Edith    0  1.0      0   \n",
       "888           Johnston, Miss. Catherine Helen \"Carrie\"    0  1.0      1   \n",
       "889                              Behr, Mr. Karl Howell    1  1.0      0   \n",
       "890                                Dooley, Mr. Patrick    1  1.0      0   \n",
       "\n",
       "     Parch            Ticket     Fare  Cabin  Embarked  Title  \n",
       "0        0         A/5 21171   7.2500      0         1      2  \n",
       "1        0          PC 17599  71.2833      3         3      3  \n",
       "2        0  STON/O2. 3101282   7.9250      0         1      1  \n",
       "3        0            113803  53.1000      3         1      3  \n",
       "4        0            373450   8.0500      0         1      2  \n",
       "..     ...               ...      ...    ...       ...    ...  \n",
       "886      0            211536  13.0000      0         1      4  \n",
       "887      0            112053  30.0000      2         1      1  \n",
       "888      2        W./C. 6607  23.4500      0         1      1  \n",
       "889      0            111369  30.0000      3         3      2  \n",
       "890      0            370376   7.7500      0         2      2  \n",
       "\n",
       "[891 rows x 13 columns]"
      ]
     },
     "execution_count": 137,
     "metadata": {},
     "output_type": "execute_result"
    }
   ],
   "source": [
    "df_train"
   ]
  },
  {
   "cell_type": "code",
   "execution_count": 138,
   "metadata": {},
   "outputs": [],
   "source": [
    "y = df_train.Survived"
   ]
  },
  {
   "cell_type": "code",
   "execution_count": 139,
   "metadata": {},
   "outputs": [],
   "source": [
    "\n",
    "df_train.drop([\"PassengerId\", \"Survived\", \"Name\", \"Ticket\"],axis=1,inplace=True)\n"
   ]
  },
  {
   "cell_type": "code",
   "execution_count": 142,
   "metadata": {},
   "outputs": [],
   "source": [
    "df_test.drop([\"PassengerId\", \"Name\", \"Ticket\"],axis=1,inplace=True)"
   ]
  },
  {
   "cell_type": "code",
   "execution_count": 140,
   "metadata": {},
   "outputs": [
    {
     "data": {
      "text/html": [
       "<div>\n",
       "<style scoped>\n",
       "    .dataframe tbody tr th:only-of-type {\n",
       "        vertical-align: middle;\n",
       "    }\n",
       "\n",
       "    .dataframe tbody tr th {\n",
       "        vertical-align: top;\n",
       "    }\n",
       "\n",
       "    .dataframe thead th {\n",
       "        text-align: right;\n",
       "    }\n",
       "</style>\n",
       "<table border=\"1\" class=\"dataframe\">\n",
       "  <thead>\n",
       "    <tr style=\"text-align: right;\">\n",
       "      <th></th>\n",
       "      <th>Pclass</th>\n",
       "      <th>Sex</th>\n",
       "      <th>Age</th>\n",
       "      <th>SibSp</th>\n",
       "      <th>Parch</th>\n",
       "      <th>Fare</th>\n",
       "      <th>Cabin</th>\n",
       "      <th>Embarked</th>\n",
       "      <th>Title</th>\n",
       "    </tr>\n",
       "  </thead>\n",
       "  <tbody>\n",
       "    <tr>\n",
       "      <td>0</td>\n",
       "      <td>3</td>\n",
       "      <td>1</td>\n",
       "      <td>1.0</td>\n",
       "      <td>1</td>\n",
       "      <td>0</td>\n",
       "      <td>7.2500</td>\n",
       "      <td>0</td>\n",
       "      <td>1</td>\n",
       "      <td>2</td>\n",
       "    </tr>\n",
       "    <tr>\n",
       "      <td>1</td>\n",
       "      <td>1</td>\n",
       "      <td>0</td>\n",
       "      <td>2.0</td>\n",
       "      <td>1</td>\n",
       "      <td>0</td>\n",
       "      <td>71.2833</td>\n",
       "      <td>3</td>\n",
       "      <td>3</td>\n",
       "      <td>3</td>\n",
       "    </tr>\n",
       "    <tr>\n",
       "      <td>2</td>\n",
       "      <td>3</td>\n",
       "      <td>0</td>\n",
       "      <td>1.0</td>\n",
       "      <td>0</td>\n",
       "      <td>0</td>\n",
       "      <td>7.9250</td>\n",
       "      <td>0</td>\n",
       "      <td>1</td>\n",
       "      <td>1</td>\n",
       "    </tr>\n",
       "    <tr>\n",
       "      <td>3</td>\n",
       "      <td>1</td>\n",
       "      <td>0</td>\n",
       "      <td>2.0</td>\n",
       "      <td>1</td>\n",
       "      <td>0</td>\n",
       "      <td>53.1000</td>\n",
       "      <td>3</td>\n",
       "      <td>1</td>\n",
       "      <td>3</td>\n",
       "    </tr>\n",
       "    <tr>\n",
       "      <td>4</td>\n",
       "      <td>3</td>\n",
       "      <td>1</td>\n",
       "      <td>2.0</td>\n",
       "      <td>0</td>\n",
       "      <td>0</td>\n",
       "      <td>8.0500</td>\n",
       "      <td>0</td>\n",
       "      <td>1</td>\n",
       "      <td>2</td>\n",
       "    </tr>\n",
       "    <tr>\n",
       "      <td>...</td>\n",
       "      <td>...</td>\n",
       "      <td>...</td>\n",
       "      <td>...</td>\n",
       "      <td>...</td>\n",
       "      <td>...</td>\n",
       "      <td>...</td>\n",
       "      <td>...</td>\n",
       "      <td>...</td>\n",
       "      <td>...</td>\n",
       "    </tr>\n",
       "    <tr>\n",
       "      <td>886</td>\n",
       "      <td>2</td>\n",
       "      <td>1</td>\n",
       "      <td>1.0</td>\n",
       "      <td>0</td>\n",
       "      <td>0</td>\n",
       "      <td>13.0000</td>\n",
       "      <td>0</td>\n",
       "      <td>1</td>\n",
       "      <td>4</td>\n",
       "    </tr>\n",
       "    <tr>\n",
       "      <td>887</td>\n",
       "      <td>1</td>\n",
       "      <td>0</td>\n",
       "      <td>1.0</td>\n",
       "      <td>0</td>\n",
       "      <td>0</td>\n",
       "      <td>30.0000</td>\n",
       "      <td>2</td>\n",
       "      <td>1</td>\n",
       "      <td>1</td>\n",
       "    </tr>\n",
       "    <tr>\n",
       "      <td>888</td>\n",
       "      <td>3</td>\n",
       "      <td>0</td>\n",
       "      <td>1.0</td>\n",
       "      <td>1</td>\n",
       "      <td>2</td>\n",
       "      <td>23.4500</td>\n",
       "      <td>0</td>\n",
       "      <td>1</td>\n",
       "      <td>1</td>\n",
       "    </tr>\n",
       "    <tr>\n",
       "      <td>889</td>\n",
       "      <td>1</td>\n",
       "      <td>1</td>\n",
       "      <td>1.0</td>\n",
       "      <td>0</td>\n",
       "      <td>0</td>\n",
       "      <td>30.0000</td>\n",
       "      <td>3</td>\n",
       "      <td>3</td>\n",
       "      <td>2</td>\n",
       "    </tr>\n",
       "    <tr>\n",
       "      <td>890</td>\n",
       "      <td>3</td>\n",
       "      <td>1</td>\n",
       "      <td>1.0</td>\n",
       "      <td>0</td>\n",
       "      <td>0</td>\n",
       "      <td>7.7500</td>\n",
       "      <td>0</td>\n",
       "      <td>2</td>\n",
       "      <td>2</td>\n",
       "    </tr>\n",
       "  </tbody>\n",
       "</table>\n",
       "<p>891 rows × 9 columns</p>\n",
       "</div>"
      ],
      "text/plain": [
       "     Pclass  Sex  Age  SibSp  Parch     Fare  Cabin  Embarked  Title\n",
       "0         3    1  1.0      1      0   7.2500      0         1      2\n",
       "1         1    0  2.0      1      0  71.2833      3         3      3\n",
       "2         3    0  1.0      0      0   7.9250      0         1      1\n",
       "3         1    0  2.0      1      0  53.1000      3         1      3\n",
       "4         3    1  2.0      0      0   8.0500      0         1      2\n",
       "..      ...  ...  ...    ...    ...      ...    ...       ...    ...\n",
       "886       2    1  1.0      0      0  13.0000      0         1      4\n",
       "887       1    0  1.0      0      0  30.0000      2         1      1\n",
       "888       3    0  1.0      1      2  23.4500      0         1      1\n",
       "889       1    1  1.0      0      0  30.0000      3         3      2\n",
       "890       3    1  1.0      0      0   7.7500      0         2      2\n",
       "\n",
       "[891 rows x 9 columns]"
      ]
     },
     "execution_count": 140,
     "metadata": {},
     "output_type": "execute_result"
    }
   ],
   "source": [
    "df_train"
   ]
  },
  {
   "cell_type": "code",
   "execution_count": 143,
   "metadata": {},
   "outputs": [],
   "source": [
    "from sklearn.model_selection  import train_test_split\n",
    "x_train, x_test ,y_train, y_test = train_test_split(df_train ,y , test_size = 0.33 , random_state = 0)"
   ]
  },
  {
   "cell_type": "code",
   "execution_count": 146,
   "metadata": {},
   "outputs": [
    {
     "name": "stdout",
     "output_type": "stream",
     "text": [
      "Random Forest R2\n",
      "[[166  18]\n",
      " [ 29  82]]\n"
     ]
    }
   ],
   "source": [
    "from sklearn.ensemble import RandomForestClassifier\n",
    "\n",
    "R_F = RandomForestClassifier()\n",
    "R_F.fit(x_train, y_train)\n",
    "\n",
    "y_pred = R_F.predict(x_test)\n",
    "\n",
    "print(\"Random Forest R2\")\n",
    "print(confusion_matrix(y_test, y_pred))"
   ]
  },
  {
   "cell_type": "code",
   "execution_count": null,
   "metadata": {},
   "outputs": [],
   "source": [
    "## %84"
   ]
  },
  {
   "cell_type": "code",
   "execution_count": null,
   "metadata": {},
   "outputs": [],
   "source": []
  }
 ],
 "metadata": {
  "kernelspec": {
   "display_name": "Python 3",
   "language": "python",
   "name": "python3"
  },
  "language_info": {
   "codemirror_mode": {
    "name": "ipython",
    "version": 3
   },
   "file_extension": ".py",
   "mimetype": "text/x-python",
   "name": "python",
   "nbconvert_exporter": "python",
   "pygments_lexer": "ipython3",
   "version": "3.7.4"
  }
 },
 "nbformat": 4,
 "nbformat_minor": 5
}
